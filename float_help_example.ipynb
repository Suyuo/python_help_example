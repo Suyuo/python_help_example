{
 "cells": [
  {
   "cell_type": "code",
   "execution_count": 4,
   "metadata": {
    "scrolled": false
   },
   "outputs": [
    {
     "name": "stdout",
     "output_type": "stream",
     "text": [
      "Help on class float in module builtins:\n",
      "\n",
      "class float(object)\n",
      " |  float(x) -> floating point number\n",
      " |  \n",
      " |  Convert a string or number to a floating point number, if possible.\n",
      " |  \n",
      " |  Methods defined here:\n",
      " |  \n",
      " |  __abs__(self, /)\n",
      " |      abs(self)\n",
      " |  \n",
      " |  __add__(self, value, /)\n",
      " |      Return self+value.\n",
      " |  \n",
      " |  __bool__(self, /)\n",
      " |      self != 0\n",
      " |  \n",
      " |  __divmod__(self, value, /)\n",
      " |      Return divmod(self, value).\n",
      " |  \n",
      " |  __eq__(self, value, /)\n",
      " |      Return self==value.\n",
      " |  \n",
      " |  __float__(self, /)\n",
      " |      float(self)\n",
      " |  \n",
      " |  __floordiv__(self, value, /)\n",
      " |      Return self//value.\n",
      " |  \n",
      " |  __format__(...)\n",
      " |      float.__format__(format_spec) -> string\n",
      " |      \n",
      " |      Formats the float according to format_spec.\n",
      " |  \n",
      " |  __ge__(self, value, /)\n",
      " |      Return self>=value.\n",
      " |  \n",
      " |  __getattribute__(self, name, /)\n",
      " |      Return getattr(self, name).\n",
      " |  \n",
      " |  __getformat__(...) from builtins.type\n",
      " |      float.__getformat__(typestr) -> string\n",
      " |      \n",
      " |      You probably don't want to use this function.  It exists mainly to be\n",
      " |      used in Python's test suite.\n",
      " |      \n",
      " |      typestr must be 'double' or 'float'.  This function returns whichever of\n",
      " |      'unknown', 'IEEE, big-endian' or 'IEEE, little-endian' best describes the\n",
      " |      format of floating point numbers used by the C type named by typestr.\n",
      " |  \n",
      " |  __getnewargs__(...)\n",
      " |  \n",
      " |  __gt__(self, value, /)\n",
      " |      Return self>value.\n",
      " |  \n",
      " |  __hash__(self, /)\n",
      " |      Return hash(self).\n",
      " |  \n",
      " |  __int__(self, /)\n",
      " |      int(self)\n",
      " |  \n",
      " |  __le__(self, value, /)\n",
      " |      Return self<=value.\n",
      " |  \n",
      " |  __lt__(self, value, /)\n",
      " |      Return self<value.\n",
      " |  \n",
      " |  __mod__(self, value, /)\n",
      " |      Return self%value.\n",
      " |  \n",
      " |  __mul__(self, value, /)\n",
      " |      Return self*value.\n",
      " |  \n",
      " |  __ne__(self, value, /)\n",
      " |      Return self!=value.\n",
      " |  \n",
      " |  __neg__(self, /)\n",
      " |      -self\n",
      " |  \n",
      " |  __new__(*args, **kwargs) from builtins.type\n",
      " |      Create and return a new object.  See help(type) for accurate signature.\n",
      " |  \n",
      " |  __pos__(self, /)\n",
      " |      +self\n",
      " |  \n",
      " |  __pow__(self, value, mod=None, /)\n",
      " |      Return pow(self, value, mod).\n",
      " |  \n",
      " |  __radd__(self, value, /)\n",
      " |      Return value+self.\n",
      " |  \n",
      " |  __rdivmod__(self, value, /)\n",
      " |      Return divmod(value, self).\n",
      " |  \n",
      " |  __repr__(self, /)\n",
      " |      Return repr(self).\n",
      " |  \n",
      " |  __rfloordiv__(self, value, /)\n",
      " |      Return value//self.\n",
      " |  \n",
      " |  __rmod__(self, value, /)\n",
      " |      Return value%self.\n",
      " |  \n",
      " |  __rmul__(self, value, /)\n",
      " |      Return value*self.\n",
      " |  \n",
      " |  __round__(...)\n",
      " |      Return the Integral closest to x, rounding half toward even.\n",
      " |      When an argument is passed, work like built-in round(x, ndigits).\n",
      " |  \n",
      " |  __rpow__(self, value, mod=None, /)\n",
      " |      Return pow(value, self, mod).\n",
      " |  \n",
      " |  __rsub__(self, value, /)\n",
      " |      Return value-self.\n",
      " |  \n",
      " |  __rtruediv__(self, value, /)\n",
      " |      Return value/self.\n",
      " |  \n",
      " |  __setformat__(...) from builtins.type\n",
      " |      float.__setformat__(typestr, fmt) -> None\n",
      " |      \n",
      " |      You probably don't want to use this function.  It exists mainly to be\n",
      " |      used in Python's test suite.\n",
      " |      \n",
      " |      typestr must be 'double' or 'float'.  fmt must be one of 'unknown',\n",
      " |      'IEEE, big-endian' or 'IEEE, little-endian', and in addition can only be\n",
      " |      one of the latter two if it appears to match the underlying C reality.\n",
      " |      \n",
      " |      Override the automatic determination of C-level floating point type.\n",
      " |      This affects how floats are converted to and from binary strings.\n",
      " |  \n",
      " |  __str__(self, /)\n",
      " |      Return str(self).\n",
      " |  \n",
      " |  __sub__(self, value, /)\n",
      " |      Return self-value.\n",
      " |  \n",
      " |  __truediv__(self, value, /)\n",
      " |      Return self/value.\n",
      " |  \n",
      " |  __trunc__(...)\n",
      " |      Return the Integral closest to x between 0 and x.\n",
      " |  \n",
      " |  as_integer_ratio(...)\n",
      " |      float.as_integer_ratio() -> (int, int)\n",
      " |      \n",
      " |      Return a pair of integers, whose ratio is exactly equal to the original\n",
      " |      float and with a positive denominator.\n",
      " |      Raise OverflowError on infinities and a ValueError on NaNs.\n",
      " |      \n",
      " |      >>> (10.0).as_integer_ratio()\n",
      " |      (10, 1)\n",
      " |      >>> (0.0).as_integer_ratio()\n",
      " |      (0, 1)\n",
      " |      >>> (-.25).as_integer_ratio()\n",
      " |      (-1, 4)\n",
      " |  \n",
      " |  conjugate(...)\n",
      " |      Return self, the complex conjugate of any float.\n",
      " |  \n",
      " |  fromhex(...) from builtins.type\n",
      " |      float.fromhex(string) -> float\n",
      " |      \n",
      " |      Create a floating-point number from a hexadecimal string.\n",
      " |      >>> float.fromhex('0x1.ffffp10')\n",
      " |      2047.984375\n",
      " |      >>> float.fromhex('-0x1p-1074')\n",
      " |      -5e-324\n",
      " |  \n",
      " |  hex(...)\n",
      " |      float.hex() -> string\n",
      " |      \n",
      " |      Return a hexadecimal representation of a floating-point number.\n",
      " |      >>> (-0.1).hex()\n",
      " |      '-0x1.999999999999ap-4'\n",
      " |      >>> 3.14159.hex()\n",
      " |      '0x1.921f9f01b866ep+1'\n",
      " |  \n",
      " |  is_integer(...)\n",
      " |      Return True if the float is an integer.\n",
      " |  \n",
      " |  ----------------------------------------------------------------------\n",
      " |  Data descriptors defined here:\n",
      " |  \n",
      " |  imag\n",
      " |      the imaginary part of a complex number\n",
      " |  \n",
      " |  real\n",
      " |      the real part of a complex number\n",
      "\n"
     ]
    }
   ],
   "source": [
    "help(float)"
   ]
  },
  {
   "cell_type": "code",
   "execution_count": 3,
   "metadata": {},
   "outputs": [
    {
     "name": "stdout",
     "output_type": "stream",
     "text": [
      "0.5\n"
     ]
    }
   ],
   "source": [
    "#__abs__()返回浮点数的绝对值\n",
    "a = -0.5\n",
    "b = a.__abs__()\n",
    "print(b)"
   ]
  },
  {
   "cell_type": "code",
   "execution_count": 5,
   "metadata": {},
   "outputs": [
    {
     "name": "stdout",
     "output_type": "stream",
     "text": [
      "6.5\n"
     ]
    }
   ],
   "source": [
    "#__add__()浮点数与其他数相加\n",
    "a = 0.5\n",
    "b = a.__add__(6)\n",
    "print(b)"
   ]
  },
  {
   "cell_type": "code",
   "execution_count": 6,
   "metadata": {},
   "outputs": [
    {
     "name": "stdout",
     "output_type": "stream",
     "text": [
      "True\n"
     ]
    }
   ],
   "source": [
    "#__bool__()如果变量不为0则返回True，否则返回False\n",
    "a = 0.5\n",
    "b = a.__bool__()\n",
    "print(b)"
   ]
  },
  {
   "cell_type": "code",
   "execution_count": 13,
   "metadata": {},
   "outputs": [
    {
     "name": "stdout",
     "output_type": "stream",
     "text": [
      "<class 'tuple'>\n",
      "(49.0, 0.00999999999999999)\n"
     ]
    }
   ],
   "source": [
    "#__divmod__()函数，生成元组，元组0号元素为除的次数，1号元素为余数\n",
    "#得出浮点数余数结果参考网上的python浮点数计算方式\n",
    "a = 0.5\n",
    "b = a.__divmod__(0.01)\n",
    "print(type(b))\n",
    "print(b)"
   ]
  },
  {
   "cell_type": "code",
   "execution_count": 17,
   "metadata": {},
   "outputs": [
    {
     "name": "stdout",
     "output_type": "stream",
     "text": [
      "True\n"
     ]
    }
   ],
   "source": [
    "#__eq__()函数功能检测两个变量是否相同，两个变量若相同则返回True，其余为False\n",
    "a = 0.5\n",
    "b = a.__eq__(0.5)\n",
    "print(b)"
   ]
  },
  {
   "cell_type": "code",
   "execution_count": 18,
   "metadata": {},
   "outputs": [
    {
     "name": "stdout",
     "output_type": "stream",
     "text": [
      "0.5\n"
     ]
    }
   ],
   "source": [
    "#__float__()讲变量转变为浮点数类型\n",
    "a = 0.5\n",
    "b = a.__float__()\n",
    "print(b)"
   ]
  },
  {
   "cell_type": "code",
   "execution_count": 158,
   "metadata": {},
   "outputs": [
    {
     "name": "stdout",
     "output_type": "stream",
     "text": [
      "1.0\n"
     ]
    }
   ],
   "source": [
    "#取余后返回除的次数\n",
    "a = 12.69999\n",
    "b = a.__floordiv__(7)\n",
    "print(b)"
   ]
  },
  {
   "cell_type": "code",
   "execution_count": 19,
   "metadata": {},
   "outputs": [
    {
     "name": "stdout",
     "output_type": "stream",
     "text": [
      "False\n"
     ]
    }
   ],
   "source": [
    "#__ge__ 大于等于\n",
    "a = 0.5\n",
    "b = a.__ge__(0.7)\n",
    "print(b)"
   ]
  },
  {
   "cell_type": "code",
   "execution_count": 60,
   "metadata": {},
   "outputs": [
    {
     "name": "stdout",
     "output_type": "stream",
     "text": [
      "1\n",
      "2\n",
      "3\n"
     ]
    }
   ],
   "source": [
    "#实例化调用属性时，__getattribute__()函数自动调用\n",
    "b = 0\n",
    "class test():\n",
    "    def __init__(self):\n",
    "        pass\n",
    "    def __getattribute__(self,something):\n",
    "        global b\n",
    "        b = b + 1\n",
    "        return b\n",
    "        \n",
    "a = test()\n",
    "print(a.b)\n",
    "print(a.b)\n",
    "print(a.b)"
   ]
  },
  {
   "cell_type": "code",
   "execution_count": 35,
   "metadata": {},
   "outputs": [
    {
     "name": "stdout",
     "output_type": "stream",
     "text": [
      "unknown\n",
      "IEEE, little-endian\n"
     ]
    }
   ],
   "source": [
    "#__getformat__()功能为判断浮点数为大端型或小端型浮点数\n",
    "#该函数可选参数为double(双精度浮点数）与float(单精度浮点数)\n",
    "#返回结果有3种\n",
    "#一种为unknown\n",
    "#一种为IEEE, little-endian  小端型浮点数\n",
    "#一种为IEEE, big-endian     大端型浮点数\n",
    "#这个函数在以前的工作中没有遇到过，举例方面如果有人使用过可以帮忙补充一下\n",
    "a = 123.26262612\n",
    "b = a.__getformat__('double')\n",
    "print(b)\n",
    "\n",
    "c = a.__getformat__('float')\n",
    "print(c)\n",
    "#上面这个例子可以说明，jupyter-notebook默认float为单精度小端型浮点数\n"
   ]
  },
  {
   "cell_type": "code",
   "execution_count": 40,
   "metadata": {
    "scrolled": false
   },
   "outputs": [
    {
     "name": "stdout",
     "output_type": "stream",
     "text": [
      "None\n",
      "None\n",
      "None\n",
      "None\n"
     ]
    }
   ],
   "source": [
    "#在文档下还有一个__setformat__()函数，同样是关于大端浮点数与小端浮点数\n",
    "\n",
    "a = 1213.123123\n",
    "b = a.__setformat__('double','IEEE, little-endian')\n",
    "c = a.__setformat__('double','unknown')\n",
    "print(b)\n",
    "print(c)\n",
    "\n",
    "e = a.__setformat__('float','IEEE, little-endian')\n",
    "f = a.__setformat__('float','unknown')\n",
    "print(e)\n",
    "print(f)\n",
    "\n",
    "#__setformat__还有两种参数，分别为\n",
    "#a.__setformat__('double','IEEE, big-endian')\n",
    "#a.__setformat__('float','IEEE, big-endian')\n",
    "#运行上面两行代码会报错，报错信息为只能转变为unknown型或平台识别的值"
   ]
  },
  {
   "cell_type": "code",
   "execution_count": 47,
   "metadata": {},
   "outputs": [
    {
     "name": "stdout",
     "output_type": "stream",
     "text": [
      "(123123.123123,)\n",
      "<class 'tuple'>\n"
     ]
    }
   ],
   "source": [
    "#__getnewargs__函数将浮点数类型变量转变为元组类型变量\n",
    "a = 123123.123123\n",
    "b = a.__getnewargs__()\n",
    "print(b)\n",
    "print(type(b))"
   ]
  },
  {
   "cell_type": "code",
   "execution_count": 49,
   "metadata": {},
   "outputs": [
    {
     "name": "stdout",
     "output_type": "stream",
     "text": [
      "False\n"
     ]
    }
   ],
   "source": [
    "#__gt__() gather than\n",
    "a = 12.34\n",
    "b = 12.35\n",
    "print(a.__gt__(b))"
   ]
  },
  {
   "cell_type": "code",
   "execution_count": 53,
   "metadata": {},
   "outputs": [
    {
     "name": "stdout",
     "output_type": "stream",
     "text": [
      "283618690132356955\n"
     ]
    }
   ],
   "source": [
    "#__hash__()返回一个int，该int标记当前对象\n",
    "a = 12123.123\n",
    "b = a.__hash__()\n",
    "print(b)"
   ]
  },
  {
   "cell_type": "code",
   "execution_count": 61,
   "metadata": {},
   "outputs": [
    {
     "name": "stdout",
     "output_type": "stream",
     "text": [
      "121\n",
      "121\n",
      "-121\n"
     ]
    }
   ],
   "source": [
    "#__int__()取浮点数整数部分，若浮点数为负值返回时同样带有负值\n",
    "a = 121.2232\n",
    "b = a.__int__()\n",
    "print(b)\n",
    "\n",
    "c = 121.99\n",
    "d = c.__int__()\n",
    "print(d)\n",
    "\n",
    "e = -121.99\n",
    "f = e.__int__()\n",
    "print(f)"
   ]
  },
  {
   "cell_type": "code",
   "execution_count": 64,
   "metadata": {},
   "outputs": [
    {
     "name": "stdout",
     "output_type": "stream",
     "text": [
      "True\n",
      "True\n"
     ]
    }
   ],
   "source": [
    "#__le__ less equal\n",
    "a = 12.1\n",
    "b = 12.2\n",
    "print(a.__le__(b))\n",
    "c = 12.2\n",
    "print(b.__le__(c))"
   ]
  },
  {
   "cell_type": "code",
   "execution_count": 63,
   "metadata": {},
   "outputs": [
    {
     "name": "stdout",
     "output_type": "stream",
     "text": [
      "True\n"
     ]
    }
   ],
   "source": [
    "#__lt__ less than\n",
    "a = 12.2\n",
    "b = 12.3\n",
    "print(a.__lt__(b))"
   ]
  },
  {
   "cell_type": "code",
   "execution_count": 79,
   "metadata": {},
   "outputs": [
    {
     "name": "stdout",
     "output_type": "stream",
     "text": [
      "4.42342\n"
     ]
    }
   ],
   "source": [
    "#__mod__()与%功能相同\n",
    "a = 12.42342\n",
    "b = a.__mod__(8)\n",
    "print(b)"
   ]
  },
  {
   "cell_type": "code",
   "execution_count": 84,
   "metadata": {},
   "outputs": [
    {
     "name": "stdout",
     "output_type": "stream",
     "text": [
      "36.900000000000006\n"
     ]
    }
   ],
   "source": [
    "#__mul__() multiplication\n",
    "a = 12.3\n",
    "b = a.__mul__(3)\n",
    "print(b)"
   ]
  },
  {
   "cell_type": "code",
   "execution_count": 85,
   "metadata": {},
   "outputs": [
    {
     "name": "stdout",
     "output_type": "stream",
     "text": [
      "True\n"
     ]
    }
   ],
   "source": [
    "#__ne__() not equal\n",
    "a = 12.2\n",
    "b = 12.3\n",
    "print(a.__ne__(b))"
   ]
  },
  {
   "cell_type": "code",
   "execution_count": 90,
   "metadata": {},
   "outputs": [
    {
     "name": "stdout",
     "output_type": "stream",
     "text": [
      "-12.3\n"
     ]
    }
   ],
   "source": [
    "#__neg__()在数值前加'-'\n",
    "a = 12.3\n",
    "b = a.__neg__()\n",
    "print(b)\n",
    "c = -12.9\n",
    "d = a.__neg__()\n",
    "print(b)"
   ]
  },
  {
   "cell_type": "code",
   "execution_count": 89,
   "metadata": {},
   "outputs": [
    {
     "name": "stdout",
     "output_type": "stream",
     "text": [
      "2\n"
     ]
    }
   ],
   "source": [
    "#__new__ 在__init__调用前调用\n",
    "class a:\n",
    "    def __init__(self):\n",
    "        print('1')\n",
    "    def __new__(self):\n",
    "        print('2')\n",
    "b = a()"
   ]
  },
  {
   "cell_type": "code",
   "execution_count": 101,
   "metadata": {},
   "outputs": [
    {
     "name": "stdout",
     "output_type": "stream",
     "text": [
      "12.3\n",
      "-12.3\n"
     ]
    }
   ],
   "source": [
    "#__pos__()在浮点数前加'+',无任何return self，无任何效果\n",
    "a = 12.3\n",
    "b = a.__pos__()\n",
    "print(b)\n",
    "\n",
    "c = -12.3\n",
    "d = c.__pos__()\n",
    "print(d)"
   ]
  },
  {
   "cell_type": "code",
   "execution_count": 119,
   "metadata": {},
   "outputs": [
    {
     "name": "stdout",
     "output_type": "stream",
     "text": [
      "151.29000000000002\n"
     ]
    }
   ],
   "source": [
    "#__pow__()对变量进行平方计算\n",
    "#可选参数为mod，条件为涉及到运算的所有元素为整形，当输入mod时会将平方结果做除法运算\n",
    "a = 12.3\n",
    "b = a.__pow__(2)\n",
    "print(b)"
   ]
  },
  {
   "cell_type": "code",
   "execution_count": 102,
   "metadata": {},
   "outputs": [
    {
     "name": "stdout",
     "output_type": "stream",
     "text": [
      "22.3\n"
     ]
    }
   ],
   "source": [
    "#__radd__() 变量相加，上面的__add__为12.3+10，此处为10+12.3\n",
    "a = 12.3\n",
    "b = a.__radd__(10)\n",
    "print(b)"
   ]
  },
  {
   "cell_type": "code",
   "execution_count": 127,
   "metadata": {},
   "outputs": [
    {
     "name": "stdout",
     "output_type": "stream",
     "text": [
      "(49.0, 0.00999999999999999)\n"
     ]
    }
   ],
   "source": [
    "#__rdivmod__()与__divmod__方法相同，不同点为除数与被除数位置调换\n",
    "a = 0.01\n",
    "b = a.__rdivmod__(0.5)\n",
    "print(b)"
   ]
  },
  {
   "cell_type": "code",
   "execution_count": 129,
   "metadata": {},
   "outputs": [
    {
     "name": "stdout",
     "output_type": "stream",
     "text": [
      "<class 'str'>\n",
      "0.5\n"
     ]
    }
   ],
   "source": [
    "#__repr__() 将变量转变为str\n",
    "a = 0.5\n",
    "b = a.__repr__()\n",
    "print(type(b))\n",
    "print(b)"
   ]
  },
  {
   "cell_type": "code",
   "execution_count": 161,
   "metadata": {},
   "outputs": [
    {
     "name": "stdout",
     "output_type": "stream",
     "text": [
      "1.0\n"
     ]
    }
   ],
   "source": [
    "#__rfoordiv__()与__floordiv__()相似\n",
    "#不同点为除数与被除数更换位置3\n",
    "#除此之外__floordiv__()中若被除数为浮点数，函数会将除数自动转换为浮点数而__rfloordiv__()不会\n",
    "a = 7.0\n",
    "b = a.__rfloordiv__(12.3)\n",
    "print(b)"
   ]
  },
  {
   "cell_type": "code",
   "execution_count": 170,
   "metadata": {},
   "outputs": [
    {
     "name": "stdout",
     "output_type": "stream",
     "text": [
      "4.300000000000001\n"
     ]
    }
   ],
   "source": [
    "#__rmod__ 与__mod__用法相同，不同点为除数与被除数位置交换\n",
    "a = 8.0\n",
    "b = a.__rmod__(12.3)\n",
    "print(b)"
   ]
  },
  {
   "cell_type": "code",
   "execution_count": 26,
   "metadata": {},
   "outputs": [
    {
     "name": "stdout",
     "output_type": "stream",
     "text": [
      "1\n"
     ]
    }
   ],
   "source": [
    "#小数点后12位以内，以0.5为界\n",
    "#0.5以上使用__round__为1\n",
    "#0.5以下以及0.5使用__round__为0\n",
    "a = 0.5000000000000001\n",
    "b = a.__round__()\n",
    "print(b)"
   ]
  },
  {
   "cell_type": "code",
   "execution_count": 27,
   "metadata": {
    "scrolled": true
   },
   "outputs": [
    {
     "name": "stdout",
     "output_type": "stream",
     "text": [
      "-0.3\n"
     ]
    }
   ],
   "source": [
    "#__rsub__()变量相减\n",
    "a = 0.5\n",
    "b = a.__rsub__(0.2)\n",
    "print(b)"
   ]
  },
  {
   "cell_type": "code",
   "execution_count": 28,
   "metadata": {},
   "outputs": [
    {
     "name": "stdout",
     "output_type": "stream",
     "text": [
      "0.2\n"
     ]
    }
   ],
   "source": [
    "#__rtruediv__() 变量相除\n",
    "a = 0.5\n",
    "b = a.__rtruediv__(0.1)\n",
    "print(b)"
   ]
  },
  {
   "cell_type": "code",
   "execution_count": 30,
   "metadata": {},
   "outputs": [
    {
     "name": "stdout",
     "output_type": "stream",
     "text": [
      "<class 'str'>\n",
      "0.5\n"
     ]
    }
   ],
   "source": [
    "#__str__() 将变量转变为str，功能与__repr__相同\n",
    "a = 0.5\n",
    "b = a.__str__()\n",
    "print(type(b))\n",
    "print(b)"
   ]
  },
  {
   "cell_type": "code",
   "execution_count": 31,
   "metadata": {},
   "outputs": [
    {
     "name": "stdout",
     "output_type": "stream",
     "text": [
      "0.3\n"
     ]
    }
   ],
   "source": [
    "#__sub__变量相减\n",
    "a = 0.5\n",
    "b = a.__sub__(0.2)\n",
    "print(b)"
   ]
  },
  {
   "cell_type": "code",
   "execution_count": 32,
   "metadata": {},
   "outputs": [
    {
     "name": "stdout",
     "output_type": "stream",
     "text": [
      "5.0\n"
     ]
    }
   ],
   "source": [
    "#__truediv__()变量相除\n",
    "a = 0.5\n",
    "b = a.__truediv__(0.1)\n",
    "print(b)"
   ]
  },
  {
   "cell_type": "code",
   "execution_count": 43,
   "metadata": {},
   "outputs": [
    {
     "name": "stdout",
     "output_type": "stream",
     "text": [
      "-12\n"
     ]
    }
   ],
   "source": [
    "#__trunc__() 取整\n",
    "a = -12.3\n",
    "b = a.__trunc__()\n",
    "print(b)"
   ]
  },
  {
   "cell_type": "code",
   "execution_count": 51,
   "metadata": {},
   "outputs": [
    {
     "name": "stdout",
     "output_type": "stream",
     "text": [
      "(3152519739159347, 4503599627370496)\n",
      "(3152519739159347, 4503599627370496)\n"
     ]
    }
   ],
   "source": [
    "#as_interger_ratio() 生产最接近的目标变量最接近的元组，元组中两个元素相除为该元素\n",
    "a = 0.7\n",
    "b = a.as_integer_ratio()\n",
    "print(b)\n",
    "\n",
    "#结果不为（7，10）的原因如下所示\n",
    "c = 0.69999999999999999998\n",
    "d = c.as_integer_ratio()\n",
    "print(d)"
   ]
  },
  {
   "cell_type": "code",
   "execution_count": 65,
   "metadata": {},
   "outputs": [
    {
     "name": "stdout",
     "output_type": "stream",
     "text": [
      "<class 'float'>\n",
      "0.5\n"
     ]
    }
   ],
   "source": [
    "#conjugate()输出该函数的共轭复数，一般在class complex中使用，float中也可使用\n",
    "#由于浮点数没有虚部，所以返回自身\n",
    "a = 0.5\n",
    "b = a.conjugate()\n",
    "print(type(b))\n",
    "print(b)"
   ]
  },
  {
   "cell_type": "code",
   "execution_count": 5,
   "metadata": {},
   "outputs": [
    {
     "name": "stdout",
     "output_type": "stream",
     "text": [
      "10.9375\n"
     ]
    }
   ],
   "source": [
    "#fromhex() 函数将16进制数字转换为10进制数字\n",
    "#在fromhex前引导的变量a不影响函数的使用\n",
    "a = 0.5\n",
    "b = a.fromhex('a.f')\n",
    "print(b)"
   ]
  },
  {
   "cell_type": "code",
   "execution_count": 7,
   "metadata": {},
   "outputs": [
    {
     "name": "stdout",
     "output_type": "stream",
     "text": [
      "<class 'str'>\n",
      "0x1.999999999999ap-4\n",
      "0.1\n"
     ]
    }
   ],
   "source": [
    "#hex()函数，将浮点数转换为字符串，字符串内容为该浮点数的十六进制表示法\n",
    "a = 0.1\n",
    "b = a.hex()\n",
    "print(type(b))\n",
    "print(b)\n",
    "\n",
    "c = '0x1.999999999999ap-4'\n",
    "d = a.fromhex(c)\n",
    "print(d)"
   ]
  },
  {
   "cell_type": "code",
   "execution_count": 12,
   "metadata": {},
   "outputs": [
    {
     "name": "stdout",
     "output_type": "stream",
     "text": [
      "False\n",
      "<class 'float'>\n",
      "True\n"
     ]
    }
   ],
   "source": [
    "#is_integer()函数判断浮点数的内容是否为整数，若为整数返回True,否则返回False\n",
    "a = 0.5\n",
    "b = a.is_integer()\n",
    "print(b)\n",
    "\n",
    "c = 1.0\n",
    "print(type(c))\n",
    "d = c.is_integer()\n",
    "print(d)"
   ]
  },
  {
   "cell_type": "markdown",
   "metadata": {},
   "source": [
    "- 以上为help文档中的所有函数，在help文档下还有两个数据的定义\n",
    "- imag：复数的虚部\n",
    "- real: 复数的实部"
   ]
  },
  {
   "cell_type": "code",
   "execution_count": null,
   "metadata": {},
   "outputs": [],
   "source": []
  }
 ],
 "metadata": {
  "kernelspec": {
   "display_name": "Python 3",
   "language": "python",
   "name": "python3"
  },
  "language_info": {
   "codemirror_mode": {
    "name": "ipython",
    "version": 3
   },
   "file_extension": ".py",
   "mimetype": "text/x-python",
   "name": "python",
   "nbconvert_exporter": "python",
   "pygments_lexer": "ipython3",
   "version": "3.6.9"
  }
 },
 "nbformat": 4,
 "nbformat_minor": 2
}
