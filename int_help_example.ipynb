{
 "cells": [
  {
   "cell_type": "code",
   "execution_count": 1,
   "metadata": {
    "scrolled": false
   },
   "outputs": [
    {
     "name": "stdout",
     "output_type": "stream",
     "text": [
      "Help on class int in module builtins:\n",
      "\n",
      "class int(object)\n",
      " |  int(x=0) -> integer\n",
      " |  int(x, base=10) -> integer\n",
      " |  \n",
      " |  Convert a number or string to an integer, or return 0 if no arguments\n",
      " |  are given.  If x is a number, return x.__int__().  For floating point\n",
      " |  numbers, this truncates towards zero.\n",
      " |  \n",
      " |  If x is not a number or if base is given, then x must be a string,\n",
      " |  bytes, or bytearray instance representing an integer literal in the\n",
      " |  given base.  The literal can be preceded by '+' or '-' and be surrounded\n",
      " |  by whitespace.  The base defaults to 10.  Valid bases are 0 and 2-36.\n",
      " |  Base 0 means to interpret the base from the string as an integer literal.\n",
      " |  >>> int('0b100', base=0)\n",
      " |  4\n",
      " |  \n",
      " |  Methods defined here:\n",
      " |  \n",
      " |  __abs__(self, /)\n",
      " |      abs(self)\n",
      " |  \n",
      " |  __add__(self, value, /)\n",
      " |      Return self+value.\n",
      " |  \n",
      " |  __and__(self, value, /)\n",
      " |      Return self&value.\n",
      " |  \n",
      " |  __bool__(self, /)\n",
      " |      self != 0\n",
      " |  \n",
      " |  __ceil__(...)\n",
      " |      Ceiling of an Integral returns itself.\n",
      " |  \n",
      " |  __divmod__(self, value, /)\n",
      " |      Return divmod(self, value).\n",
      " |  \n",
      " |  __eq__(self, value, /)\n",
      " |      Return self==value.\n",
      " |  \n",
      " |  __float__(self, /)\n",
      " |      float(self)\n",
      " |  \n",
      " |  __floor__(...)\n",
      " |      Flooring an Integral returns itself.\n",
      " |  \n",
      " |  __floordiv__(self, value, /)\n",
      " |      Return self//value.\n",
      " |  \n",
      " |  __format__(...)\n",
      " |      default object formatter\n",
      " |  \n",
      " |  __ge__(self, value, /)\n",
      " |      Return self>=value.\n",
      " |  \n",
      " |  __getattribute__(self, name, /)\n",
      " |      Return getattr(self, name).\n",
      " |  \n",
      " |  __getnewargs__(...)\n",
      " |  \n",
      " |  __gt__(self, value, /)\n",
      " |      Return self>value.\n",
      " |  \n",
      " |  __hash__(self, /)\n",
      " |      Return hash(self).\n",
      " |  \n",
      " |  __index__(self, /)\n",
      " |      Return self converted to an integer, if self is suitable for use as an index into a list.\n",
      " |  \n",
      " |  __int__(self, /)\n",
      " |      int(self)\n",
      " |  \n",
      " |  __invert__(self, /)\n",
      " |      ~self\n",
      " |  \n",
      " |  __le__(self, value, /)\n",
      " |      Return self<=value.\n",
      " |  \n",
      " |  __lshift__(self, value, /)\n",
      " |      Return self<<value.\n",
      " |  \n",
      " |  __lt__(self, value, /)\n",
      " |      Return self<value.\n",
      " |  \n",
      " |  __mod__(self, value, /)\n",
      " |      Return self%value.\n",
      " |  \n",
      " |  __mul__(self, value, /)\n",
      " |      Return self*value.\n",
      " |  \n",
      " |  __ne__(self, value, /)\n",
      " |      Return self!=value.\n",
      " |  \n",
      " |  __neg__(self, /)\n",
      " |      -self\n",
      " |  \n",
      " |  __new__(*args, **kwargs) from builtins.type\n",
      " |      Create and return a new object.  See help(type) for accurate signature.\n",
      " |  \n",
      " |  __or__(self, value, /)\n",
      " |      Return self|value.\n",
      " |  \n",
      " |  __pos__(self, /)\n",
      " |      +self\n",
      " |  \n",
      " |  __pow__(self, value, mod=None, /)\n",
      " |      Return pow(self, value, mod).\n",
      " |  \n",
      " |  __radd__(self, value, /)\n",
      " |      Return value+self.\n",
      " |  \n",
      " |  __rand__(self, value, /)\n",
      " |      Return value&self.\n",
      " |  \n",
      " |  __rdivmod__(self, value, /)\n",
      " |      Return divmod(value, self).\n",
      " |  \n",
      " |  __repr__(self, /)\n",
      " |      Return repr(self).\n",
      " |  \n",
      " |  __rfloordiv__(self, value, /)\n",
      " |      Return value//self.\n",
      " |  \n",
      " |  __rlshift__(self, value, /)\n",
      " |      Return value<<self.\n",
      " |  \n",
      " |  __rmod__(self, value, /)\n",
      " |      Return value%self.\n",
      " |  \n",
      " |  __rmul__(self, value, /)\n",
      " |      Return value*self.\n",
      " |  \n",
      " |  __ror__(self, value, /)\n",
      " |      Return value|self.\n",
      " |  \n",
      " |  __round__(...)\n",
      " |      Rounding an Integral returns itself.\n",
      " |      Rounding with an ndigits argument also returns an integer.\n",
      " |  \n",
      " |  __rpow__(self, value, mod=None, /)\n",
      " |      Return pow(value, self, mod).\n",
      " |  \n",
      " |  __rrshift__(self, value, /)\n",
      " |      Return value>>self.\n",
      " |  \n",
      " |  __rshift__(self, value, /)\n",
      " |      Return self>>value.\n",
      " |  \n",
      " |  __rsub__(self, value, /)\n",
      " |      Return value-self.\n",
      " |  \n",
      " |  __rtruediv__(self, value, /)\n",
      " |      Return value/self.\n",
      " |  \n",
      " |  __rxor__(self, value, /)\n",
      " |      Return value^self.\n",
      " |  \n",
      " |  __sizeof__(...)\n",
      " |      Returns size in memory, in bytes\n",
      " |  \n",
      " |  __str__(self, /)\n",
      " |      Return str(self).\n",
      " |  \n",
      " |  __sub__(self, value, /)\n",
      " |      Return self-value.\n",
      " |  \n",
      " |  __truediv__(self, value, /)\n",
      " |      Return self/value.\n",
      " |  \n",
      " |  __trunc__(...)\n",
      " |      Truncating an Integral returns itself.\n",
      " |  \n",
      " |  __xor__(self, value, /)\n",
      " |      Return self^value.\n",
      " |  \n",
      " |  bit_length(...)\n",
      " |      int.bit_length() -> int\n",
      " |      \n",
      " |      Number of bits necessary to represent self in binary.\n",
      " |      >>> bin(37)\n",
      " |      '0b100101'\n",
      " |      >>> (37).bit_length()\n",
      " |      6\n",
      " |  \n",
      " |  conjugate(...)\n",
      " |      Returns self, the complex conjugate of any int.\n",
      " |  \n",
      " |  from_bytes(...) from builtins.type\n",
      " |      int.from_bytes(bytes, byteorder, *, signed=False) -> int\n",
      " |      \n",
      " |      Return the integer represented by the given array of bytes.\n",
      " |      \n",
      " |      The bytes argument must be a bytes-like object (e.g. bytes or bytearray).\n",
      " |      \n",
      " |      The byteorder argument determines the byte order used to represent the\n",
      " |      integer.  If byteorder is 'big', the most significant byte is at the\n",
      " |      beginning of the byte array.  If byteorder is 'little', the most\n",
      " |      significant byte is at the end of the byte array.  To request the native\n",
      " |      byte order of the host system, use `sys.byteorder' as the byte order value.\n",
      " |      \n",
      " |      The signed keyword-only argument indicates whether two's complement is\n",
      " |      used to represent the integer.\n",
      " |  \n",
      " |  to_bytes(...)\n",
      " |      int.to_bytes(length, byteorder, *, signed=False) -> bytes\n",
      " |      \n",
      " |      Return an array of bytes representing an integer.\n",
      " |      \n",
      " |      The integer is represented using length bytes.  An OverflowError is\n",
      " |      raised if the integer is not representable with the given number of\n",
      " |      bytes.\n",
      " |      \n",
      " |      The byteorder argument determines the byte order used to represent the\n",
      " |      integer.  If byteorder is 'big', the most significant byte is at the\n",
      " |      beginning of the byte array.  If byteorder is 'little', the most\n",
      " |      significant byte is at the end of the byte array.  To request the native\n",
      " |      byte order of the host system, use `sys.byteorder' as the byte order value.\n",
      " |      \n",
      " |      The signed keyword-only argument determines whether two's complement is\n",
      " |      used to represent the integer.  If signed is False and a negative integer\n",
      " |      is given, an OverflowError is raised.\n",
      " |  \n",
      " |  ----------------------------------------------------------------------\n",
      " |  Data descriptors defined here:\n",
      " |  \n",
      " |  denominator\n",
      " |      the denominator of a rational number in lowest terms\n",
      " |  \n",
      " |  imag\n",
      " |      the imaginary part of a complex number\n",
      " |  \n",
      " |  numerator\n",
      " |      the numerator of a rational number in lowest terms\n",
      " |  \n",
      " |  real\n",
      " |      the real part of a complex number\n",
      "\n"
     ]
    }
   ],
   "source": [
    "help(int)"
   ]
  },
  {
   "cell_type": "markdown",
   "metadata": {},
   "source": [
    "- 在int帮助文档中，有些功能在class_str与class_float中已经写过了，在这里就简略举个例子"
   ]
  },
  {
   "cell_type": "code",
   "execution_count": 3,
   "metadata": {},
   "outputs": [
    {
     "name": "stdout",
     "output_type": "stream",
     "text": [
      "1\n",
      "3\n"
     ]
    }
   ],
   "source": [
    "a = -1\n",
    "b = a.__abs__()\n",
    "print(b)\n",
    "\n",
    "a = 1\n",
    "b = a.__add__(2)\n",
    "print(b)"
   ]
  },
  {
   "cell_type": "code",
   "execution_count": 22,
   "metadata": {},
   "outputs": [
    {
     "name": "stdout",
     "output_type": "stream",
     "text": [
      "0\n"
     ]
    }
   ],
   "source": [
    "#__and__ 逻辑\"和\"运算\n",
    "a = 1\n",
    "b = a.__and__(0)\n",
    "print(b)"
   ]
  },
  {
   "cell_type": "code",
   "execution_count": 23,
   "metadata": {},
   "outputs": [
    {
     "name": "stdout",
     "output_type": "stream",
     "text": [
      "True\n"
     ]
    }
   ],
   "source": [
    "#变量不为零返回True\n",
    "a = 1\n",
    "b = a.__bool__()\n",
    "print(b)"
   ]
  },
  {
   "cell_type": "code",
   "execution_count": 31,
   "metadata": {},
   "outputs": [
    {
     "name": "stdout",
     "output_type": "stream",
     "text": [
      "1\n"
     ]
    }
   ],
   "source": [
    "#__ceil__ 向上取整，由于本身就为int，所以返回自身\n",
    "a = 1\n",
    "b = a.__ceil__()\n",
    "print(b)"
   ]
  },
  {
   "cell_type": "code",
   "execution_count": 71,
   "metadata": {},
   "outputs": [
    {
     "name": "stdout",
     "output_type": "stream",
     "text": [
      "(1, 4)\n",
      "True\n",
      "<class 'float'>\n",
      "1.0\n",
      "6\n",
      "c\n",
      "True\n",
      "19\n",
      "20\n",
      "21\n",
      "<class 'tuple'>\n",
      "(1,)\n",
      "False\n",
      "1\n",
      "1\n"
     ]
    }
   ],
   "source": [
    "a = 12\n",
    "b = a.__divmod__(8)\n",
    "print(b)\n",
    "\n",
    "a = 1\n",
    "b = a.__eq__(1)\n",
    "print(b)\n",
    "\n",
    "a = 1\n",
    "b = a.__float__()\n",
    "print(type(b))\n",
    "print(b)\n",
    "\n",
    "a = 12\n",
    "b = a.__floordiv__(2)\n",
    "print(b)\n",
    "\n",
    "a = 12\n",
    "b = a.__format__('x')\n",
    "print(b)\n",
    "\n",
    "a = 12\n",
    "b = a.__ge__(2)\n",
    "print(b)\n",
    "\n",
    "age = 18\n",
    "class body:\n",
    "    def __init__(self):\n",
    "        pass\n",
    "    def __getattribute__(self,something):\n",
    "        global age\n",
    "        age = age + 1\n",
    "        return age\n",
    "A = body()\n",
    "print(A.age)\n",
    "print(A.age)\n",
    "print(A.age)\n",
    "\n",
    "a = 1\n",
    "b = a.__getnewargs__()\n",
    "print(type(b))\n",
    "print(b)\n",
    "\n",
    "a = 1\n",
    "b = a.__gt__(2)\n",
    "print(b)\n",
    "\n",
    "a = 1\n",
    "b = 1\n",
    "print(a.__hash__())\n",
    "print(b.__hash__())"
   ]
  },
  {
   "cell_type": "code",
   "execution_count": 79,
   "metadata": {},
   "outputs": [
    {
     "name": "stdout",
     "output_type": "stream",
     "text": [
      "1\n"
     ]
    }
   ],
   "source": [
    "#__index__() 如果self适合用作列表的索引，则返回self转换为整数\n",
    "#由于变量为整形所以返回自身\n",
    "a = 1\n",
    "b = a.__index__()\n",
    "print(b)"
   ]
  },
  {
   "cell_type": "code",
   "execution_count": 80,
   "metadata": {},
   "outputs": [
    {
     "name": "stdout",
     "output_type": "stream",
     "text": [
      "1\n"
     ]
    }
   ],
   "source": [
    "#__int__() 将变量转换为整形\n",
    "a = 1\n",
    "b = a.__int__()\n",
    "print(b)"
   ]
  },
  {
   "cell_type": "code",
   "execution_count": 85,
   "metadata": {},
   "outputs": [
    {
     "name": "stdout",
     "output_type": "stream",
     "text": [
      "-36\n"
     ]
    }
   ],
   "source": [
    "#__invert__() 以0为中点，取该变量的对应点，功能同 ~\n",
    "a = 35\n",
    "b = a.__invert__()\n",
    "print(b)"
   ]
  },
  {
   "cell_type": "code",
   "execution_count": 6,
   "metadata": {},
   "outputs": [
    {
     "name": "stdout",
     "output_type": "stream",
     "text": [
      "True\n",
      "2\n",
      "12\n",
      "True\n",
      "-1\n",
      "2\n"
     ]
    }
   ],
   "source": [
    "a = 1\n",
    "b = a.__lt__(2)\n",
    "print(b)\n",
    "\n",
    "a = 12\n",
    "b = a.__mod__(5)\n",
    "print(b)\n",
    "\n",
    "a = 3\n",
    "b = a.__mul__(4)\n",
    "print(b)\n",
    "\n",
    "a = 1\n",
    "b = a.__ne__(2)\n",
    "print(b)\n",
    "\n",
    "a = 1\n",
    "b = a.__neg__()\n",
    "print(b)\n",
    "\n",
    "class a:\n",
    "    def __init__(self):\n",
    "        print('1')\n",
    "    def __new__(self):\n",
    "        print('2')\n",
    "A = a()"
   ]
  },
  {
   "cell_type": "code",
   "execution_count": 9,
   "metadata": {},
   "outputs": [
    {
     "name": "stdout",
     "output_type": "stream",
     "text": [
      "1\n",
      "1\n"
     ]
    }
   ],
   "source": [
    "#__or__() 或运算，功能同python中 |\n",
    "a = 1\n",
    "b = a.__or__(0)\n",
    "print(b)\n",
    "print(1|0)"
   ]
  },
  {
   "cell_type": "code",
   "execution_count": 14,
   "metadata": {},
   "outputs": [
    {
     "name": "stdout",
     "output_type": "stream",
     "text": [
      "1\n"
     ]
    }
   ],
   "source": [
    "a = 1\n",
    "b = a.__pos__()\n",
    "print(b)"
   ]
  },
  {
   "cell_type": "code",
   "execution_count": 19,
   "metadata": {},
   "outputs": [
    {
     "name": "stdout",
     "output_type": "stream",
     "text": [
      "4\n"
     ]
    }
   ],
   "source": [
    "#__pow__函数，在float中，可选参数mod由于不为整形不可用，在整形中可输入可选参数mod\n",
    "#可选参数__mod__为对变量的幂进行取余，例中4为 144/5 余数为4\n",
    "a = 12\n",
    "b = a.__pow__(2,5)\n",
    "print(b)"
   ]
  },
  {
   "cell_type": "code",
   "execution_count": 36,
   "metadata": {},
   "outputs": [
    {
     "name": "stdout",
     "output_type": "stream",
     "text": [
      "3\n",
      "(2, 2)\n",
      "<class 'str'>\n",
      "1\n",
      "1\n",
      "0\n",
      "144\n"
     ]
    }
   ],
   "source": [
    "a = 1\n",
    "b = a.__radd__(2)\n",
    "print(b)\n",
    "\n",
    "a = 5\n",
    "b = a.__rdivmod__(12)\n",
    "print(b)\n",
    "\n",
    "a = 1\n",
    "b = a.__repr__()\n",
    "print(type(b))\n",
    "print(b)\n",
    "\n",
    "a = 1\n",
    "b = a.__ror__(0)\n",
    "print(b)\n",
    "\n",
    "a = 0.5\n",
    "b = a.__round__()\n",
    "print(b)\n",
    "\n",
    "a = 2\n",
    "b = a.__rpow__(12)\n",
    "print(b)"
   ]
  },
  {
   "cell_type": "code",
   "execution_count": 58,
   "metadata": {},
   "outputs": [
    {
     "name": "stdout",
     "output_type": "stream",
     "text": [
      "1\n"
     ]
    }
   ],
   "source": [
    "#__rrshift__() 点儿后的变量向右移动点儿前的位数\n",
    "a = 2\n",
    "b = a.__rrshift__(4)\n",
    "print(b)\n",
    "\n",
    "#上面这个例子同 4 >> 2\n",
    "#0100 → 0001"
   ]
  },
  {
   "cell_type": "code",
   "execution_count": 59,
   "metadata": {},
   "outputs": [
    {
     "name": "stdout",
     "output_type": "stream",
     "text": [
      "1\n"
     ]
    }
   ],
   "source": [
    "#__rshift__()函数与__rrshift__()函数value与self参数相反\n",
    "#下面这个例子与上面的例子运算方式相同\n",
    "a = 4\n",
    "b = a.__rshift__(2)\n",
    "print(b)"
   ]
  },
  {
   "cell_type": "code",
   "execution_count": 61,
   "metadata": {},
   "outputs": [
    {
     "name": "stdout",
     "output_type": "stream",
     "text": [
      "50\n"
     ]
    }
   ],
   "source": [
    "#__rsub__() 变量相减\n",
    "a = 1\n",
    "b = a.__rsub__(51)\n",
    "print(b)"
   ]
  },
  {
   "cell_type": "code",
   "execution_count": 62,
   "metadata": {},
   "outputs": [
    {
     "name": "stdout",
     "output_type": "stream",
     "text": [
      "0.4166666666666667\n"
     ]
    }
   ],
   "source": [
    "a = 12\n",
    "b = a.__rtruediv__(5)\n",
    "print(b)"
   ]
  },
  {
   "cell_type": "code",
   "execution_count": 63,
   "metadata": {},
   "outputs": [
    {
     "name": "stdout",
     "output_type": "stream",
     "text": [
      "1\n"
     ]
    }
   ],
   "source": [
    "#__rxor__() 逻辑运算 \n",
    "a = 1\n",
    "b = a.__rxor__(0)\n",
    "print(b)"
   ]
  },
  {
   "cell_type": "code",
   "execution_count": 1,
   "metadata": {},
   "outputs": [
    {
     "name": "stdout",
     "output_type": "stream",
     "text": [
      "28\n",
      "1\n",
      "1\n",
      "1.5\n"
     ]
    }
   ],
   "source": [
    "a = 1\n",
    "b = a.__sizeof__()\n",
    "print(b)\n",
    "\n",
    "a = 1\n",
    "b = a.__str__()\n",
    "print(b)\n",
    "\n",
    "a = 3\n",
    "b = a.__sub__(2)\n",
    "print(b)\n",
    "\n",
    "a = 12\n",
    "b = a.__truediv__(8)\n",
    "print(b)"
   ]
  },
  {
   "cell_type": "code",
   "execution_count": 5,
   "metadata": {},
   "outputs": [
    {
     "name": "stdout",
     "output_type": "stream",
     "text": [
      "1\n"
     ]
    }
   ],
   "source": [
    "#__trunc__与__int__函数用法相同，功能为返回整数部分\n",
    "a = 1\n",
    "b = a.__trunc__()\n",
    "print(b)"
   ]
  },
  {
   "cell_type": "code",
   "execution_count": 14,
   "metadata": {},
   "outputs": [
    {
     "name": "stdout",
     "output_type": "stream",
     "text": [
      "1\n"
     ]
    }
   ],
   "source": [
    "#__xor__() 逻辑运算异或\n",
    "a = 1\n",
    "b = a.__xor__(0)\n",
    "print(b)"
   ]
  },
  {
   "cell_type": "code",
   "execution_count": 16,
   "metadata": {},
   "outputs": [
    {
     "name": "stdout",
     "output_type": "stream",
     "text": [
      "3\n"
     ]
    }
   ],
   "source": [
    "#bit_length()函数显示变量使用的位数\n",
    "a = 4\n",
    "b = a.bit_length()\n",
    "print(b)\n",
    "#4对应0100"
   ]
  },
  {
   "cell_type": "code",
   "execution_count": 11,
   "metadata": {},
   "outputs": [
    {
     "name": "stdout",
     "output_type": "stream",
     "text": [
      "1\n"
     ]
    }
   ],
   "source": [
    "a = 1\n",
    "b = a.conjugate()\n",
    "print(b)"
   ]
  },
  {
   "cell_type": "code",
   "execution_count": 87,
   "metadata": {},
   "outputs": [
    {
     "name": "stdout",
     "output_type": "stream",
     "text": [
      "61936\n",
      "61681\n",
      "-3855\n"
     ]
    }
   ],
   "source": [
    "#from_bytes功能为将字节数组转换为十进制int\n",
    "#必选参数为bytes(字节数组内容)，byteorder(字节顺序)\n",
    "#byteorder参数分为little与big\n",
    "#little 逆字符数组顺序，例中为 f1 f0 即为 1111 0001 1111 0000\n",
    "b = int.from_bytes(b'\\xf0\\xf1', byteorder = 'little')\n",
    "print(b)\n",
    "#big 字符数组正常顺序 ，例中为 f0 f1 即为1111 0000 1111 0000\n",
    "b = int.from_bytes(b'\\xf0\\xf1', byteorder = 'big')\n",
    "print(b)\n",
    "\n",
    "#可选参数为signed，若signed 为 True，则对结果依次进行原码，反码，补码的操作\n",
    "#signed函数为关键字参数\n",
    "b = int.from_bytes(b'\\xf0\\xf1', byteorder = 'big',signed = True)\n",
    "print(b)\n",
    "#以下为例中signed为True的运算方法\n",
    "#1 111 0000 1111 0001\n",
    "#1 000 1111 0000 1110\n",
    "#1 000 1111 0000 1111"
   ]
  },
  {
   "cell_type": "code",
   "execution_count": 98,
   "metadata": {},
   "outputs": [
    {
     "name": "stdout",
     "output_type": "stream",
     "text": [
      "b'\\xf1\\xf0'\n"
     ]
    }
   ],
   "source": [
    "#to_bytes将int变量转变为字节数组,是函数from_bytes的逆向过程\n",
    "#参数length为字节数组长度，byteorder为字节顺序\n",
    "#可选参数同from_bytes函数\n",
    "a = 61936\n",
    "b = a.to_bytes(2,byteorder='big')\n",
    "print(b)"
   ]
  },
  {
   "cell_type": "markdown",
   "metadata": {},
   "source": [
    "# help最后还有4个定义分别为\n",
    "## 分母\n",
    "- 有理数的最小分母\n",
    "\n",
    "## 虚部\n",
    "- 虚数的虚部\n",
    "\n",
    "## 分子\n",
    "- 有理数的最小分子\n",
    "\n",
    "## 实部\n",
    "- 虚数的实部\n"
   ]
  },
  {
   "cell_type": "code",
   "execution_count": null,
   "metadata": {},
   "outputs": [],
   "source": []
  }
 ],
 "metadata": {
  "kernelspec": {
   "display_name": "Python 3",
   "language": "python",
   "name": "python3"
  },
  "language_info": {
   "codemirror_mode": {
    "name": "ipython",
    "version": 3
   },
   "file_extension": ".py",
   "mimetype": "text/x-python",
   "name": "python",
   "nbconvert_exporter": "python",
   "pygments_lexer": "ipython3",
   "version": "3.6.9"
  }
 },
 "nbformat": 4,
 "nbformat_minor": 2
}
