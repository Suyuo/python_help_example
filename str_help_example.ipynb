{
 "cells": [
  {
   "cell_type": "code",
   "execution_count": 1,
   "metadata": {
    "scrolled": false
   },
   "outputs": [
    {
     "name": "stdout",
     "output_type": "stream",
     "text": [
      "Help on class str in module builtins:\n",
      "\n",
      "class str(object)\n",
      " |  str(object='') -> str\n",
      " |  str(bytes_or_buffer[, encoding[, errors]]) -> str\n",
      " |  \n",
      " |  Create a new string object from the given object. If encoding or\n",
      " |  errors is specified, then the object must expose a data buffer\n",
      " |  that will be decoded using the given encoding and error handler.\n",
      " |  Otherwise, returns the result of object.__str__() (if defined)\n",
      " |  or repr(object).\n",
      " |  encoding defaults to sys.getdefaultencoding().\n",
      " |  errors defaults to 'strict'.\n",
      " |  \n",
      " |  Methods defined here:\n",
      " |  \n",
      " |  __add__(self, value, /)\n",
      " |      Return self+value.\n",
      " |  \n",
      " |  __contains__(self, key, /)\n",
      " |      Return key in self.\n",
      " |  \n",
      " |  __eq__(self, value, /)\n",
      " |      Return self==value.\n",
      " |  \n",
      " |  __format__(...)\n",
      " |      S.__format__(format_spec) -> str\n",
      " |      \n",
      " |      Return a formatted version of S as described by format_spec.\n",
      " |  \n",
      " |  __ge__(self, value, /)\n",
      " |      Return self>=value.\n",
      " |  \n",
      " |  __getattribute__(self, name, /)\n",
      " |      Return getattr(self, name).\n",
      " |  \n",
      " |  __getitem__(self, key, /)\n",
      " |      Return self[key].\n",
      " |  \n",
      " |  __getnewargs__(...)\n",
      " |  \n",
      " |  __gt__(self, value, /)\n",
      " |      Return self>value.\n",
      " |  \n",
      " |  __hash__(self, /)\n",
      " |      Return hash(self).\n",
      " |  \n",
      " |  __iter__(self, /)\n",
      " |      Implement iter(self).\n",
      " |  \n",
      " |  __le__(self, value, /)\n",
      " |      Return self<=value.\n",
      " |  \n",
      " |  __len__(self, /)\n",
      " |      Return len(self).\n",
      " |  \n",
      " |  __lt__(self, value, /)\n",
      " |      Return self<value.\n",
      " |  \n",
      " |  __mod__(self, value, /)\n",
      " |      Return self%value.\n",
      " |  \n",
      " |  __mul__(self, value, /)\n",
      " |      Return self*value.\n",
      " |  \n",
      " |  __ne__(self, value, /)\n",
      " |      Return self!=value.\n",
      " |  \n",
      " |  __new__(*args, **kwargs) from builtins.type\n",
      " |      Create and return a new object.  See help(type) for accurate signature.\n",
      " |  \n",
      " |  __repr__(self, /)\n",
      " |      Return repr(self).\n",
      " |  \n",
      " |  __rmod__(self, value, /)\n",
      " |      Return value%self.\n",
      " |  \n",
      " |  __rmul__(self, value, /)\n",
      " |      Return value*self.\n",
      " |  \n",
      " |  __sizeof__(...)\n",
      " |      S.__sizeof__() -> size of S in memory, in bytes\n",
      " |  \n",
      " |  __str__(self, /)\n",
      " |      Return str(self).\n",
      " |  \n",
      " |  capitalize(...)\n",
      " |      S.capitalize() -> str\n",
      " |      \n",
      " |      Return a capitalized version of S, i.e. make the first character\n",
      " |      have upper case and the rest lower case.\n",
      " |  \n",
      " |  casefold(...)\n",
      " |      S.casefold() -> str\n",
      " |      \n",
      " |      Return a version of S suitable for caseless comparisons.\n",
      " |  \n",
      " |  center(...)\n",
      " |      S.center(width[, fillchar]) -> str\n",
      " |      \n",
      " |      Return S centered in a string of length width. Padding is\n",
      " |      done using the specified fill character (default is a space)\n",
      " |  \n",
      " |  count(...)\n",
      " |      S.count(sub[, start[, end]]) -> int\n",
      " |      \n",
      " |      Return the number of non-overlapping occurrences of substring sub in\n",
      " |      string S[start:end].  Optional arguments start and end are\n",
      " |      interpreted as in slice notation.\n",
      " |  \n",
      " |  encode(...)\n",
      " |      S.encode(encoding='utf-8', errors='strict') -> bytes\n",
      " |      \n",
      " |      Encode S using the codec registered for encoding. Default encoding\n",
      " |      is 'utf-8'. errors may be given to set a different error\n",
      " |      handling scheme. Default is 'strict' meaning that encoding errors raise\n",
      " |      a UnicodeEncodeError. Other possible values are 'ignore', 'replace' and\n",
      " |      'xmlcharrefreplace' as well as any other name registered with\n",
      " |      codecs.register_error that can handle UnicodeEncodeErrors.\n",
      " |  \n",
      " |  endswith(...)\n",
      " |      S.endswith(suffix[, start[, end]]) -> bool\n",
      " |      \n",
      " |      Return True if S ends with the specified suffix, False otherwise.\n",
      " |      With optional start, test S beginning at that position.\n",
      " |      With optional end, stop comparing S at that position.\n",
      " |      suffix can also be a tuple of strings to try.\n",
      " |  \n",
      " |  expandtabs(...)\n",
      " |      S.expandtabs(tabsize=8) -> str\n",
      " |      \n",
      " |      Return a copy of S where all tab characters are expanded using spaces.\n",
      " |      If tabsize is not given, a tab size of 8 characters is assumed.\n",
      " |  \n",
      " |  find(...)\n",
      " |      S.find(sub[, start[, end]]) -> int\n",
      " |      \n",
      " |      Return the lowest index in S where substring sub is found,\n",
      " |      such that sub is contained within S[start:end].  Optional\n",
      " |      arguments start and end are interpreted as in slice notation.\n",
      " |      \n",
      " |      Return -1 on failure.\n",
      " |  \n",
      " |  format(...)\n",
      " |      S.format(*args, **kwargs) -> str\n",
      " |      \n",
      " |      Return a formatted version of S, using substitutions from args and kwargs.\n",
      " |      The substitutions are identified by braces ('{' and '}').\n",
      " |  \n",
      " |  format_map(...)\n",
      " |      S.format_map(mapping) -> str\n",
      " |      \n",
      " |      Return a formatted version of S, using substitutions from mapping.\n",
      " |      The substitutions are identified by braces ('{' and '}').\n",
      " |  \n",
      " |  index(...)\n",
      " |      S.index(sub[, start[, end]]) -> int\n",
      " |      \n",
      " |      Return the lowest index in S where substring sub is found, \n",
      " |      such that sub is contained within S[start:end].  Optional\n",
      " |      arguments start and end are interpreted as in slice notation.\n",
      " |      \n",
      " |      Raises ValueError when the substring is not found.\n",
      " |  \n",
      " |  isalnum(...)\n",
      " |      S.isalnum() -> bool\n",
      " |      \n",
      " |      Return True if all characters in S are alphanumeric\n",
      " |      and there is at least one character in S, False otherwise.\n",
      " |  \n",
      " |  isalpha(...)\n",
      " |      S.isalpha() -> bool\n",
      " |      \n",
      " |      Return True if all characters in S are alphabetic\n",
      " |      and there is at least one character in S, False otherwise.\n",
      " |  \n",
      " |  isdecimal(...)\n",
      " |      S.isdecimal() -> bool\n",
      " |      \n",
      " |      Return True if there are only decimal characters in S,\n",
      " |      False otherwise.\n",
      " |  \n",
      " |  isdigit(...)\n",
      " |      S.isdigit() -> bool\n",
      " |      \n",
      " |      Return True if all characters in S are digits\n",
      " |      and there is at least one character in S, False otherwise.\n",
      " |  \n",
      " |  isidentifier(...)\n",
      " |      S.isidentifier() -> bool\n",
      " |      \n",
      " |      Return True if S is a valid identifier according\n",
      " |      to the language definition.\n",
      " |      \n",
      " |      Use keyword.iskeyword() to test for reserved identifiers\n",
      " |      such as \"def\" and \"class\".\n",
      " |  \n",
      " |  islower(...)\n",
      " |      S.islower() -> bool\n",
      " |      \n",
      " |      Return True if all cased characters in S are lowercase and there is\n",
      " |      at least one cased character in S, False otherwise.\n",
      " |  \n",
      " |  isnumeric(...)\n",
      " |      S.isnumeric() -> bool\n",
      " |      \n",
      " |      Return True if there are only numeric characters in S,\n",
      " |      False otherwise.\n",
      " |  \n",
      " |  isprintable(...)\n",
      " |      S.isprintable() -> bool\n",
      " |      \n",
      " |      Return True if all characters in S are considered\n",
      " |      printable in repr() or S is empty, False otherwise.\n",
      " |  \n",
      " |  isspace(...)\n",
      " |      S.isspace() -> bool\n",
      " |      \n",
      " |      Return True if all characters in S are whitespace\n",
      " |      and there is at least one character in S, False otherwise.\n",
      " |  \n",
      " |  istitle(...)\n",
      " |      S.istitle() -> bool\n",
      " |      \n",
      " |      Return True if S is a titlecased string and there is at least one\n",
      " |      character in S, i.e. upper- and titlecase characters may only\n",
      " |      follow uncased characters and lowercase characters only cased ones.\n",
      " |      Return False otherwise.\n",
      " |  \n",
      " |  isupper(...)\n",
      " |      S.isupper() -> bool\n",
      " |      \n",
      " |      Return True if all cased characters in S are uppercase and there is\n",
      " |      at least one cased character in S, False otherwise.\n",
      " |  \n",
      " |  join(...)\n",
      " |      S.join(iterable) -> str\n",
      " |      \n",
      " |      Return a string which is the concatenation of the strings in the\n",
      " |      iterable.  The separator between elements is S.\n",
      " |  \n",
      " |  ljust(...)\n",
      " |      S.ljust(width[, fillchar]) -> str\n",
      " |      \n",
      " |      Return S left-justified in a Unicode string of length width. Padding is\n",
      " |      done using the specified fill character (default is a space).\n",
      " |  \n",
      " |  lower(...)\n",
      " |      S.lower() -> str\n",
      " |      \n",
      " |      Return a copy of the string S converted to lowercase.\n",
      " |  \n",
      " |  lstrip(...)\n",
      " |      S.lstrip([chars]) -> str\n",
      " |      \n",
      " |      Return a copy of the string S with leading whitespace removed.\n",
      " |      If chars is given and not None, remove characters in chars instead.\n",
      " |  \n",
      " |  partition(...)\n",
      " |      S.partition(sep) -> (head, sep, tail)\n",
      " |      \n",
      " |      Search for the separator sep in S, and return the part before it,\n",
      " |      the separator itself, and the part after it.  If the separator is not\n",
      " |      found, return S and two empty strings.\n",
      " |  \n",
      " |  replace(...)\n",
      " |      S.replace(old, new[, count]) -> str\n",
      " |      \n",
      " |      Return a copy of S with all occurrences of substring\n",
      " |      old replaced by new.  If the optional argument count is\n",
      " |      given, only the first count occurrences are replaced.\n",
      " |  \n",
      " |  rfind(...)\n",
      " |      S.rfind(sub[, start[, end]]) -> int\n",
      " |      \n",
      " |      Return the highest index in S where substring sub is found,\n",
      " |      such that sub is contained within S[start:end].  Optional\n",
      " |      arguments start and end are interpreted as in slice notation.\n",
      " |      \n",
      " |      Return -1 on failure.\n",
      " |  \n",
      " |  rindex(...)\n",
      " |      S.rindex(sub[, start[, end]]) -> int\n",
      " |      \n",
      " |      Return the highest index in S where substring sub is found,\n",
      " |      such that sub is contained within S[start:end].  Optional\n",
      " |      arguments start and end are interpreted as in slice notation.\n",
      " |      \n",
      " |      Raises ValueError when the substring is not found.\n",
      " |  \n",
      " |  rjust(...)\n",
      " |      S.rjust(width[, fillchar]) -> str\n",
      " |      \n",
      " |      Return S right-justified in a string of length width. Padding is\n",
      " |      done using the specified fill character (default is a space).\n",
      " |  \n",
      " |  rpartition(...)\n",
      " |      S.rpartition(sep) -> (head, sep, tail)\n",
      " |      \n",
      " |      Search for the separator sep in S, starting at the end of S, and return\n",
      " |      the part before it, the separator itself, and the part after it.  If the\n",
      " |      separator is not found, return two empty strings and S.\n",
      " |  \n",
      " |  rsplit(...)\n",
      " |      S.rsplit(sep=None, maxsplit=-1) -> list of strings\n",
      " |      \n",
      " |      Return a list of the words in S, using sep as the\n",
      " |      delimiter string, starting at the end of the string and\n",
      " |      working to the front.  If maxsplit is given, at most maxsplit\n",
      " |      splits are done. If sep is not specified, any whitespace string\n",
      " |      is a separator.\n",
      " |  \n",
      " |  rstrip(...)\n",
      " |      S.rstrip([chars]) -> str\n",
      " |      \n",
      " |      Return a copy of the string S with trailing whitespace removed.\n",
      " |      If chars is given and not None, remove characters in chars instead.\n",
      " |  \n",
      " |  split(...)\n",
      " |      S.split(sep=None, maxsplit=-1) -> list of strings\n",
      " |      \n",
      " |      Return a list of the words in S, using sep as the\n",
      " |      delimiter string.  If maxsplit is given, at most maxsplit\n",
      " |      splits are done. If sep is not specified or is None, any\n",
      " |      whitespace string is a separator and empty strings are\n",
      " |      removed from the result.\n",
      " |  \n",
      " |  splitlines(...)\n",
      " |      S.splitlines([keepends]) -> list of strings\n",
      " |      \n",
      " |      Return a list of the lines in S, breaking at line boundaries.\n",
      " |      Line breaks are not included in the resulting list unless keepends\n",
      " |      is given and true.\n",
      " |  \n",
      " |  startswith(...)\n",
      " |      S.startswith(prefix[, start[, end]]) -> bool\n",
      " |      \n",
      " |      Return True if S starts with the specified prefix, False otherwise.\n",
      " |      With optional start, test S beginning at that position.\n",
      " |      With optional end, stop comparing S at that position.\n",
      " |      prefix can also be a tuple of strings to try.\n",
      " |  \n",
      " |  strip(...)\n",
      " |      S.strip([chars]) -> str\n",
      " |      \n",
      " |      Return a copy of the string S with leading and trailing\n",
      " |      whitespace removed.\n",
      " |      If chars is given and not None, remove characters in chars instead.\n",
      " |  \n",
      " |  swapcase(...)\n",
      " |      S.swapcase() -> str\n",
      " |      \n",
      " |      Return a copy of S with uppercase characters converted to lowercase\n",
      " |      and vice versa.\n",
      " |  \n",
      " |  title(...)\n",
      " |      S.title() -> str\n",
      " |      \n",
      " |      Return a titlecased version of S, i.e. words start with title case\n",
      " |      characters, all remaining cased characters have lower case.\n",
      " |  \n",
      " |  translate(...)\n",
      " |      S.translate(table) -> str\n",
      " |      \n",
      " |      Return a copy of the string S in which each character has been mapped\n",
      " |      through the given translation table. The table must implement\n",
      " |      lookup/indexing via __getitem__, for instance a dictionary or list,\n",
      " |      mapping Unicode ordinals to Unicode ordinals, strings, or None. If\n",
      " |      this operation raises LookupError, the character is left untouched.\n",
      " |      Characters mapped to None are deleted.\n",
      " |  \n",
      " |  upper(...)\n",
      " |      S.upper() -> str\n",
      " |      \n",
      " |      Return a copy of S converted to uppercase.\n",
      " |  \n",
      " |  zfill(...)\n",
      " |      S.zfill(width) -> str\n",
      " |      \n",
      " |      Pad a numeric string S with zeros on the left, to fill a field\n",
      " |      of the specified width. The string S is never truncated.\n",
      " |  \n",
      " |  ----------------------------------------------------------------------\n",
      " |  Static methods defined here:\n",
      " |  \n",
      " |  maketrans(x, y=None, z=None, /)\n",
      " |      Return a translation table usable for str.translate().\n",
      " |      \n",
      " |      If there is only one argument, it must be a dictionary mapping Unicode\n",
      " |      ordinals (integers) or characters to Unicode ordinals, strings or None.\n",
      " |      Character keys will be then converted to ordinals.\n",
      " |      If there are two arguments, they must be strings of equal length, and\n",
      " |      in the resulting dictionary, each character in x will be mapped to the\n",
      " |      character at the same position in y. If there is a third argument, it\n",
      " |      must be a string, whose characters will be mapped to None in the result.\n",
      "\n"
     ]
    }
   ],
   "source": [
    "help(str)"
   ]
  },
  {
   "cell_type": "code",
   "execution_count": 6,
   "metadata": {},
   "outputs": [
    {
     "name": "stdout",
     "output_type": "stream",
     "text": [
      "12\n",
      "13\n"
     ]
    }
   ],
   "source": [
    "#__add__函数功能为在指定字符串后添加指定字符\n",
    "a = '1'\n",
    "b = '2'\n",
    "print(a.__add__(b))\n",
    "print(a.__add__('3'))"
   ]
  },
  {
   "cell_type": "code",
   "execution_count": 14,
   "metadata": {},
   "outputs": [
    {
     "name": "stdout",
     "output_type": "stream",
     "text": [
      "True\n",
      "True\n",
      "True\n",
      "False\n"
     ]
    }
   ],
   "source": [
    "#__contains__函数为检验字符串是否在指定字符串中\n",
    "a = 'hello'\n",
    "print(a.__contains__('h'))\n",
    "print(a.__contains__('e'))\n",
    "print(a.__contains__('l'))\n",
    "print(a.__contains__('0'))"
   ]
  },
  {
   "cell_type": "code",
   "execution_count": 16,
   "metadata": {},
   "outputs": [
    {
     "name": "stdout",
     "output_type": "stream",
     "text": [
      "True\n",
      "False\n"
     ]
    }
   ],
   "source": [
    "#__eq__函数作用为确认两变量是否相等，相等返回True,eq含义为equal\n",
    "a = '1'\n",
    "b = '1'\n",
    "c = '2'\n",
    "print(a.__eq__(b))\n",
    "print(b.__eq__(c))"
   ]
  },
  {
   "cell_type": "code",
   "execution_count": 79,
   "metadata": {},
   "outputs": [
    {
     "name": "stdout",
     "output_type": "stream",
     "text": [
      "hello\n",
      "1\n"
     ]
    }
   ],
   "source": [
    "#__format__()在A到Z，a到z内只有小写s可用，作用为将字符串转换为字符串\n",
    "#此函数多用于数字格式转化，在str.__format__纯属占位\n",
    "a = 'hello'\n",
    "print(a.__format__('s'))\n",
    "#变量类型为int的例子如下所示\n",
    "a = 1\n",
    "print(a.__format__('d'))"
   ]
  },
  {
   "cell_type": "code",
   "execution_count": 12,
   "metadata": {},
   "outputs": [
    {
     "name": "stdout",
     "output_type": "stream",
     "text": [
      "False\n",
      "True\n",
      "True\n"
     ]
    }
   ],
   "source": [
    "#__ge__大于等于，ge含义为greater equal\n",
    "a = '0'\n",
    "b = '1'\n",
    "c = '1'\n",
    "print(a.__ge__(b))\n",
    "print(b.__ge__(a))\n",
    "print(c.__ge__(b))"
   ]
  },
  {
   "cell_type": "code",
   "execution_count": 25,
   "metadata": {},
   "outputs": [
    {
     "name": "stdout",
     "output_type": "stream",
     "text": [
      "男\n",
      "\n",
      "调用次数 1\n",
      "None\n",
      "\n",
      "调用次数 2\n",
      "None\n"
     ]
    }
   ],
   "source": [
    "#__getattribute__函数在调用实例属性时自动执行，在str中的方法属于占位\n",
    "a = 0\n",
    "class man(object):\n",
    "    gender = '男'\n",
    "    def __init__(self,name,age):\n",
    "        self.name = name\n",
    "        self.age = age\n",
    "    def __getattribute__(self,something):\n",
    "        global a\n",
    "        a = a + 1\n",
    "        print('调用次数',a)\n",
    "\n",
    "A = man('小明',20)\n",
    "print(man.gender)\n",
    "print()\n",
    "print(A.gender)\n",
    "print()\n",
    "print(A.gender)"
   ]
  },
  {
   "cell_type": "code",
   "execution_count": 28,
   "metadata": {},
   "outputs": [
    {
     "name": "stdout",
     "output_type": "stream",
     "text": [
      "h\n",
      "e\n",
      "l\n",
      "l\n",
      "o\n"
     ]
    }
   ],
   "source": [
    "#__getitem__函数功能为获取相应位置的字符\n",
    "a = 'hello'\n",
    "print(a.__getitem__(0))\n",
    "print(a.__getitem__(1))\n",
    "print(a.__getitem__(2))\n",
    "print(a.__getitem__(3))\n",
    "print(a.__getitem__(4))"
   ]
  },
  {
   "cell_type": "code",
   "execution_count": 82,
   "metadata": {},
   "outputs": [
    {
     "name": "stdout",
     "output_type": "stream",
     "text": [
      "('hello world',)\n"
     ]
    },
    {
     "data": {
      "text/plain": [
       "tuple"
      ]
     },
     "execution_count": 82,
     "metadata": {},
     "output_type": "execute_result"
    }
   ],
   "source": [
    "#__getnewargs__功能为将字符串转变为元组\n",
    "a = 'hello'\n",
    "b = a.__getnewargs__()\n",
    "print(b)\n",
    "type(b)"
   ]
  },
  {
   "cell_type": "code",
   "execution_count": 36,
   "metadata": {},
   "outputs": [
    {
     "name": "stdout",
     "output_type": "stream",
     "text": [
      "False\n",
      "True\n",
      "False\n"
     ]
    }
   ],
   "source": [
    "#__gt__：大于，含义为greater than\n",
    "a = '1'\n",
    "b = '2'\n",
    "c = '2'\n",
    "print(a.__gt__(b))\n",
    "print(b.__gt__(a))\n",
    "print(c.__gt__(b))"
   ]
  },
  {
   "cell_type": "code",
   "execution_count": 83,
   "metadata": {},
   "outputs": [
    {
     "name": "stdout",
     "output_type": "stream",
     "text": [
      "-5469113320938711664\n",
      "-4517766580479445199\n",
      "-4517766580479445199\n",
      "True\n"
     ]
    }
   ],
   "source": [
    "#如__hash__值相同，则__eq__函数结果为true\n",
    "a = '1'\n",
    "b = '2'\n",
    "c = '2'\n",
    "print(a.__hash__())\n",
    "print(b.__hash__())\n",
    "print(c.__hash__())\n",
    "print(b.__eq__(c))"
   ]
  },
  {
   "cell_type": "code",
   "execution_count": 34,
   "metadata": {},
   "outputs": [
    {
     "name": "stdout",
     "output_type": "stream",
     "text": [
      "<str_iterator object at 0x000001C85BFED470>\n",
      "<class 'str_iterator'>\n",
      "h\n",
      "e\n",
      "l\n",
      "l\n",
      "o\n"
     ]
    },
    {
     "ename": "StopIteration",
     "evalue": "",
     "output_type": "error",
     "traceback": [
      "\u001b[1;31m---------------------------------------------------------------------------\u001b[0m",
      "\u001b[1;31mStopIteration\u001b[0m                             Traceback (most recent call last)",
      "\u001b[1;32m<ipython-input-34-7de77237914c>\u001b[0m in \u001b[0;36m<module>\u001b[1;34m()\u001b[0m\n\u001b[0;32m     11\u001b[0m \u001b[0mprint\u001b[0m\u001b[1;33m(\u001b[0m\u001b[0mnext\u001b[0m\u001b[1;33m(\u001b[0m\u001b[0mb\u001b[0m\u001b[1;33m)\u001b[0m\u001b[1;33m)\u001b[0m\u001b[1;33m\u001b[0m\u001b[1;33m\u001b[0m\u001b[0m\n\u001b[0;32m     12\u001b[0m \u001b[1;33m\u001b[0m\u001b[0m\n\u001b[1;32m---> 13\u001b[1;33m \u001b[0mprint\u001b[0m\u001b[1;33m(\u001b[0m\u001b[0mnext\u001b[0m\u001b[1;33m(\u001b[0m\u001b[0mb\u001b[0m\u001b[1;33m)\u001b[0m\u001b[1;33m)\u001b[0m\u001b[1;33m\u001b[0m\u001b[1;33m\u001b[0m\u001b[0m\n\u001b[0m",
      "\u001b[1;31mStopIteration\u001b[0m: "
     ]
    }
   ],
   "source": [
    "#将字符串转换为迭代器\n",
    "a = 'hello'\n",
    "b = a.__iter__()\n",
    "print(b)\n",
    "print(type(b))\n",
    "#使用next遍历迭代器的每一个元素\n",
    "print(next(b))\n",
    "print(next(b))\n",
    "print(next(b))\n",
    "print(next(b))\n",
    "print(next(b))\n",
    "\n",
    "#遍历之后报出StopIteration错误，在for循环的遍历中，自动处理StopIteration错误\n",
    "print(next(b))"
   ]
  },
  {
   "cell_type": "code",
   "execution_count": 37,
   "metadata": {},
   "outputs": [
    {
     "name": "stdout",
     "output_type": "stream",
     "text": [
      "True\n",
      "True\n",
      "False\n"
     ]
    }
   ],
   "source": [
    "#__le__：小于等于，含义为less equal\n",
    "a = '1'\n",
    "b = '2'\n",
    "c = '2'\n",
    "print(a.__le__(b))\n",
    "print(b.__le__(c))\n",
    "print(c.__le__(a))"
   ]
  },
  {
   "cell_type": "code",
   "execution_count": 38,
   "metadata": {},
   "outputs": [
    {
     "name": "stdout",
     "output_type": "stream",
     "text": [
      "True\n",
      "False\n",
      "False\n"
     ]
    }
   ],
   "source": [
    "#__lt__:小于，含义为less than\n",
    "a = '1'\n",
    "b = '2'\n",
    "c = '2'\n",
    "print(a.__lt__(b))\n",
    "print(b.__lt__(c))\n",
    "print(c.__lt__(a))"
   ]
  },
  {
   "cell_type": "code",
   "execution_count": 12,
   "metadata": {
    "scrolled": true
   },
   "outputs": [
    {
     "name": "stdout",
     "output_type": "stream",
     "text": [
      "good morning beautiful\n",
      "hello 47\n",
      "hello 10\n",
      "hello f\n",
      "hello F\n",
      "hello 15.800000\n",
      "hello 15.800\n",
      "hello 1.580000e+01\n",
      "hello 1.508e+02\n"
     ]
    }
   ],
   "source": [
    "#当字符串中有%占位时可使用__mod__函数\n",
    "#替换字符串\n",
    "a = 'good morning %s'\n",
    "b = a.__mod__('beautiful')\n",
    "print(b)\n",
    "#替换十进制数字\n",
    "c = 'hello %d'\n",
    "d = c.__mod__(47)\n",
    "print(d)\n",
    "#替换八进制数字\n",
    "c = 'hello %o'\n",
    "d = c.__mod__(8)\n",
    "print(d)\n",
    "#替换十六进制数字(小写)\n",
    "c = 'hello %x'\n",
    "d = c.__mod__(15)\n",
    "print(d)\n",
    "#替换十六进制数字(大写)\n",
    "c = 'hello %X'\n",
    "d = c.__mod__(15)\n",
    "print(d)\n",
    "#替换6位小数，替换小数时可以为int也可以为float\n",
    "c = 'hello %f'\n",
    "d = c.__mod__(15.8)\n",
    "print(d)\n",
    "#替换3位小数\n",
    "c = 'hello %.3f'\n",
    "d = c.__mod__(15.8)\n",
    "print(d)\n",
    "#科学计数法保留小数点后面六位有效数字\n",
    "c = 'hello %e'\n",
    "d = c.__mod__(15.8)\n",
    "print(d)\n",
    "#科学计数法形式保留3位有效数字\n",
    "c = 'hello %.3e'\n",
    "d = c.__mod__(150.8)\n",
    "print(d)\n",
    "\n",
    "#以上例子为常用的代码，如遇到其他%占位可进行搜索"
   ]
  },
  {
   "cell_type": "code",
   "execution_count": 75,
   "metadata": {},
   "outputs": [
    {
     "name": "stdout",
     "output_type": "stream",
     "text": [
      "hello hello \n"
     ]
    }
   ],
   "source": [
    "#__mul__功能为将指定字符串乘以相应个数\n",
    "a = 'hello '\n",
    "b = a.__mul__(2)\n",
    "print(b)"
   ]
  },
  {
   "cell_type": "code",
   "execution_count": 18,
   "metadata": {},
   "outputs": [
    {
     "name": "stdout",
     "output_type": "stream",
     "text": [
      "True\n",
      "False\n"
     ]
    }
   ],
   "source": [
    "#__ne__:不等于，含义为not equal\n",
    "a = '1'\n",
    "b = '2'\n",
    "c = '2'\n",
    "print(a.__ne__(b))\n",
    "print(b.__ne__(c))"
   ]
  },
  {
   "cell_type": "code",
   "execution_count": 4,
   "metadata": {},
   "outputs": [
    {
     "name": "stdout",
     "output_type": "stream",
     "text": [
      "2\n",
      "1\n"
     ]
    }
   ],
   "source": [
    "#__new__函数与__init__作用相同，当实例化后自动调用且调用优先级在__init之前，在此处起占位作用\n",
    "class demoClass:\n",
    "    def __init__(self):\n",
    "        print('1')\n",
    "    def __new__(self):\n",
    "        print('2')\n",
    "\n",
    "a = demoClass()\n",
    "\n",
    "class demoClass2:\n",
    "    def __init__(self):\n",
    "        print('1')\n",
    "    #def __new__(self):\n",
    "        #print('2')\n",
    "\n",
    "b = demoClass2()"
   ]
  },
  {
   "cell_type": "code",
   "execution_count": 7,
   "metadata": {},
   "outputs": [
    {
     "name": "stdout",
     "output_type": "stream",
     "text": [
      "'hello'\n",
      "<class 'str'>\n"
     ]
    }
   ],
   "source": [
    "#__repr__可以将其他类型的变量转换为字符串类型\n",
    "a = 'hello'\n",
    "b = a.__repr__()\n",
    "print(b)\n",
    "print(type(b))"
   ]
  },
  {
   "cell_type": "code",
   "execution_count": 1,
   "metadata": {},
   "outputs": [
    {
     "name": "stdout",
     "output_type": "stream",
     "text": [
      "good morning  beautiful\n",
      "<class 'str'>\n"
     ]
    }
   ],
   "source": [
    "#当__rmod__函数使用方式如下所示，与__mod__使用函数方式相反,但只能替换str，其他类型的不行\n",
    "a = 'good morning '\n",
    "b = a.__rmod__('%s beautiful')\n",
    "print(b)\n",
    "print(type(b))"
   ]
  },
  {
   "cell_type": "code",
   "execution_count": 87,
   "metadata": {},
   "outputs": [
    {
     "name": "stdout",
     "output_type": "stream",
     "text": [
      "hellohellohello\n"
     ]
    }
   ],
   "source": [
    "#__rmul__函数将相应的个数乘字符串,用法与__mul__函数相反\n",
    "a = 'hello'\n",
    "b = a.__rmul__(3)\n",
    "print(b)"
   ]
  },
  {
   "cell_type": "code",
   "execution_count": 9,
   "metadata": {},
   "outputs": [
    {
     "name": "stdout",
     "output_type": "stream",
     "text": [
      "54\n",
      "78\n",
      "<class 'int'>\n"
     ]
    }
   ],
   "source": [
    "#__sizeof__函数可显示变量字节大小，返回值为int形式\n",
    "a = 'hello'\n",
    "b = '你好'\n",
    "print(a.__sizeof__())\n",
    "print(b.__sizeof__())\n",
    "c = a.__sizeof__()\n",
    "print(type(c))"
   ]
  },
  {
   "cell_type": "code",
   "execution_count": 26,
   "metadata": {},
   "outputs": [
    {
     "name": "stdout",
     "output_type": "stream",
     "text": [
      "hello\n",
      "<class 'str'>\n",
      "'hello'\n",
      "<class 'str'>\n"
     ]
    }
   ],
   "source": [
    "#__str__函数可将其他类型变量转变为__repr__使用方式相同，但结果略有不同\n",
    "#虽然变量类型均为字符串，__repr__产生的结果更偏向底层\n",
    "#__repr__更加面向程序员，__str__更加面向用户，之后碰到该函数了解两函数均可转换为字符串即可\n",
    "a = 'hello'\n",
    "b = a.__str__()\n",
    "print(b)\n",
    "print(type(b))\n",
    "\n",
    "c = a.__repr__()\n",
    "print(c)\n",
    "print(type(c))"
   ]
  },
  {
   "cell_type": "code",
   "execution_count": 29,
   "metadata": {},
   "outputs": [
    {
     "name": "stdout",
     "output_type": "stream",
     "text": [
      "Hello world\n"
     ]
    }
   ],
   "source": [
    "#capitalize字母大写\n",
    "a = 'hello world'\n",
    "b = a.capitalize()\n",
    "print(b)"
   ]
  },
  {
   "cell_type": "code",
   "execution_count": 36,
   "metadata": {},
   "outputs": [
    {
     "name": "stdout",
     "output_type": "stream",
     "text": [
      "hello world\n"
     ]
    }
   ],
   "source": [
    "#casefold所有字母小写\n",
    "a = 'HELLO WORLD'\n",
    "b = a.casefold()\n",
    "print(b)"
   ]
  },
  {
   "cell_type": "code",
   "execution_count": 44,
   "metadata": {},
   "outputs": [
    {
     "name": "stdout",
     "output_type": "stream",
     "text": [
      "   hello   \n",
      "***hello***\n"
     ]
    }
   ],
   "source": [
    "#center可是字符串在规定长度内居中\n",
    "#必须提供规定长度的参数，可以选择提供填充其余字符的填充物\n",
    "a = 'hello'\n",
    "b = a.center(11)\n",
    "print(b)\n",
    "\n",
    "c = a.center(11,'*')\n",
    "print(c)"
   ]
  },
  {
   "cell_type": "code",
   "execution_count": 61,
   "metadata": {},
   "outputs": [
    {
     "name": "stdout",
     "output_type": "stream",
     "text": [
      "3\n",
      "2\n",
      "1\n"
     ]
    }
   ],
   "source": [
    "#count函数计算出提供字符在字符串内出现的次数\n",
    "#必须提供想要计算的字符，可以选择提供规定的字符串区间\n",
    "#使用时无法跳过start直接定义end参数\n",
    "a = 'helll'\n",
    "b = a.count('l')\n",
    "print(b)\n",
    "\n",
    "c = a.count('l',3)#从字符串的3号位数,默认为从3数到最后一位，包含3\n",
    "print(c)\n",
    "\n",
    "d = a.count('l',4,5)#从4数到5，包含4，5\n",
    "print(d)"
   ]
  },
  {
   "cell_type": "code",
   "execution_count": 78,
   "metadata": {},
   "outputs": [
    {
     "name": "stdout",
     "output_type": "stream",
     "text": [
      "b'\\xe4\\xbd\\xa0\\xe5\\xa5\\xbd'\n",
      "b'\\xc4\\xe3\\xba\\xc3'\n",
      "b'\\xc4\\xe3\\xba\\xc3'\n"
     ]
    }
   ],
   "source": [
    "#encode函数功能为编码，其中指定的编码方式有两种utf-8与GB2312\n",
    "a = '你好'\n",
    "b = a.encode('utf-8')\n",
    "print(b)\n",
    "\n",
    "c = a.encode('GB2312')\n",
    "print(c)\n",
    "\n",
    "d = a.encode('GBK')\n",
    "print(d)"
   ]
  },
  {
   "cell_type": "code",
   "execution_count": 74,
   "metadata": {
    "scrolled": true
   },
   "outputs": [
    {
     "name": "stdout",
     "output_type": "stream",
     "text": [
      "True\n",
      "False\n"
     ]
    }
   ],
   "source": [
    "#endswith函数确认指定字符串最后的字符是否为指定字符，如是则输出True\n",
    "a = 'hello'\n",
    "b = a.endswith('o')\n",
    "print(b)\n",
    "c = a.endswith('e')\n",
    "print(c)"
   ]
  },
  {
   "cell_type": "code",
   "execution_count": 100,
   "metadata": {},
   "outputs": [
    {
     "name": "stdout",
     "output_type": "stream",
     "text": [
      "        \n",
      "01234567890123456789\n",
      "                \n"
     ]
    }
   ],
   "source": [
    "#expandtabs函数作用为如字符串内有制表符，更改制表符占字符位，默认为8位，可手动更改\n",
    "a = '\\t'\n",
    "b = a.expandtabs()\n",
    "print(b)\n",
    "\n",
    "print('01234567890123456789')\n",
    "\n",
    "d = a.expandtabs(16)\n",
    "print(d)"
   ]
  },
  {
   "cell_type": "code",
   "execution_count": 125,
   "metadata": {},
   "outputs": [
    {
     "name": "stdout",
     "output_type": "stream",
     "text": [
      "2\n",
      "-1\n"
     ]
    }
   ],
   "source": [
    "#find函数功能位查找指定字符串指定字符的第一个位置\n",
    "#find函数与下面的index函数作用相同\n",
    "#两函数的区别为当使用find函数寻找字符串未存在的字符时，返回值为-1\n",
    "#可设置寻找区间\n",
    "a = 'hello'\n",
    "b = a.find('l')\n",
    "print(b)\n",
    "\n",
    "c = a.find('w')\n",
    "print(c)"
   ]
  },
  {
   "cell_type": "code",
   "execution_count": 115,
   "metadata": {},
   "outputs": [
    {
     "name": "stdout",
     "output_type": "stream",
     "text": [
      "good morning beautiful\n",
      "hello 47\n",
      "hello 15.8\n"
     ]
    }
   ],
   "source": [
    "#当字符串中有%占位时可使用format函数\n",
    "#format函数为最常用的格式化函数,使用格式如下\n",
    "#替换字符串\n",
    "a = 'good morning {}'\n",
    "b = a.format('beautiful')\n",
    "\n",
    "print(b)\n",
    "#替换数字\n",
    "c = 'hello {}'\n",
    "d = c.format(47)\n",
    "\n",
    "print(d)\n",
    "#替换小数\n",
    "c = 'hello {}'\n",
    "d = c.format(15.8)\n",
    "print(d)"
   ]
  },
  {
   "cell_type": "code",
   "execution_count": 117,
   "metadata": {},
   "outputs": [
    {
     "data": {
      "text/plain": [
       "'hello Suyu'"
      ]
     },
     "execution_count": 117,
     "metadata": {},
     "output_type": "execute_result"
    }
   ],
   "source": [
    "#format_map功能为替换字典型变量，替换方式如下所示\n",
    "a = 'hello {name}'\n",
    "a.format_map({'name':'Suyu'})"
   ]
  },
  {
   "cell_type": "code",
   "execution_count": 124,
   "metadata": {},
   "outputs": [
    {
     "name": "stdout",
     "output_type": "stream",
     "text": [
      "2\n"
     ]
    },
    {
     "ename": "ValueError",
     "evalue": "substring not found",
     "output_type": "error",
     "traceback": [
      "\u001b[1;31m---------------------------------------------------------------------------\u001b[0m",
      "\u001b[1;31mValueError\u001b[0m                                Traceback (most recent call last)",
      "\u001b[1;32m<ipython-input-124-89315c945088>\u001b[0m in \u001b[0;36m<module>\u001b[1;34m()\u001b[0m\n\u001b[0;32m      3\u001b[0m \u001b[0mprint\u001b[0m\u001b[1;33m(\u001b[0m\u001b[0mb\u001b[0m\u001b[1;33m)\u001b[0m\u001b[1;33m\u001b[0m\u001b[1;33m\u001b[0m\u001b[0m\n\u001b[0;32m      4\u001b[0m \u001b[1;33m\u001b[0m\u001b[0m\n\u001b[1;32m----> 5\u001b[1;33m \u001b[0mc\u001b[0m \u001b[1;33m=\u001b[0m \u001b[0ma\u001b[0m\u001b[1;33m.\u001b[0m\u001b[0mindex\u001b[0m\u001b[1;33m(\u001b[0m\u001b[1;34m'w'\u001b[0m\u001b[1;33m)\u001b[0m\u001b[1;33m\u001b[0m\u001b[1;33m\u001b[0m\u001b[0m\n\u001b[0m\u001b[0;32m      6\u001b[0m \u001b[0mprint\u001b[0m\u001b[1;33m(\u001b[0m\u001b[0mc\u001b[0m\u001b[1;33m)\u001b[0m\u001b[1;33m\u001b[0m\u001b[1;33m\u001b[0m\u001b[0m\n",
      "\u001b[1;31mValueError\u001b[0m: substring not found"
     ]
    }
   ],
   "source": [
    "#index函数与上面的find函数作用相同\n",
    "#两函数的区别为当使用index函数寻找字符串未存在的字符时会报错\n",
    "a = 'hello'\n",
    "b = a.index('l')\n",
    "print(b)\n",
    "\n",
    "c = a.index('w')\n",
    "print(c)"
   ]
  },
  {
   "cell_type": "code",
   "execution_count": 139,
   "metadata": {},
   "outputs": [
    {
     "name": "stdout",
     "output_type": "stream",
     "text": [
      "True\n",
      "False\n"
     ]
    }
   ],
   "source": [
    "#isalnum函数用来检测指定字符串中是否存在空格与其他标点字符，如果存在，返回false\n",
    "#isalnum含义为is alphabet number（其中可以包含中文字符）\n",
    "a = 'hello'\n",
    "b = a.isalnum()\n",
    "print(b)\n",
    "\n",
    "c = 'hello!'\n",
    "d = c.isalnum()\n",
    "print(d)"
   ]
  },
  {
   "cell_type": "code",
   "execution_count": 145,
   "metadata": {},
   "outputs": [
    {
     "name": "stdout",
     "output_type": "stream",
     "text": [
      "True\n",
      "False\n"
     ]
    }
   ],
   "source": [
    "#isalpha函数检测字符串内是否全为英文字符（包含中文字符）\n",
    "#isalpha含义为is alphabet\n",
    "a = 'hello'\n",
    "b = a.isalpha()\n",
    "print(b)\n",
    "\n",
    "c = '12'\n",
    "d = c.isalpha()\n",
    "print(d)"
   ]
  },
  {
   "cell_type": "code",
   "execution_count": 7,
   "metadata": {},
   "outputs": [
    {
     "name": "stdout",
     "output_type": "stream",
     "text": [
      "True\n",
      "True\n",
      "False\n",
      "False\n",
      "False\n"
     ]
    },
    {
     "ename": "AttributeError",
     "evalue": "'bytes' object has no attribute 'isdecimal'",
     "output_type": "error",
     "traceback": [
      "\u001b[1;31m---------------------------------------------------------------------------\u001b[0m",
      "\u001b[1;31mAttributeError\u001b[0m                            Traceback (most recent call last)",
      "\u001b[1;32m<ipython-input-7-75c3bb8c0995>\u001b[0m in \u001b[0;36m<module>\u001b[1;34m()\u001b[0m\n\u001b[0;32m     23\u001b[0m \u001b[1;33m\u001b[0m\u001b[0m\n\u001b[0;32m     24\u001b[0m \u001b[0mk\u001b[0m \u001b[1;33m=\u001b[0m \u001b[1;34mb'123'\u001b[0m\u001b[1;33m\u001b[0m\u001b[1;33m\u001b[0m\u001b[0m\n\u001b[1;32m---> 25\u001b[1;33m \u001b[0ml\u001b[0m \u001b[1;33m=\u001b[0m \u001b[0mk\u001b[0m\u001b[1;33m.\u001b[0m\u001b[0misdecimal\u001b[0m\u001b[1;33m(\u001b[0m\u001b[1;33m)\u001b[0m\u001b[1;33m\u001b[0m\u001b[1;33m\u001b[0m\u001b[0m\n\u001b[0m\u001b[0;32m     26\u001b[0m \u001b[0mprint\u001b[0m\u001b[1;33m(\u001b[0m\u001b[0ml\u001b[0m\u001b[1;33m)\u001b[0m\u001b[1;33m\u001b[0m\u001b[1;33m\u001b[0m\u001b[0m\n",
      "\u001b[1;31mAttributeError\u001b[0m: 'bytes' object has no attribute 'isdecimal'"
     ]
    }
   ],
   "source": [
    "#decimal函数识别范围如下所示\n",
    "#True: Unicode数字，全角数字（双字节）\n",
    "#False: 罗马数字，汉字数字,小数\n",
    "#Error:byte数字\n",
    "a = '123'  #Unicode数字\n",
    "b = a.isdecimal()\n",
    "print(b)\n",
    "\n",
    "c = '１２３'#全角数字\n",
    "d = c.isdecimal()\n",
    "print(d)\n",
    "\n",
    "e = 'Ⅳ'\n",
    "f = e.isdecimal()\n",
    "print(f)\n",
    "\n",
    "g = '一二三'\n",
    "h = g.isdecimal()\n",
    "print(h)\n",
    "\n",
    "i = '3.3'\n",
    "j = i.isdecimal()\n",
    "print(j)\n",
    "\n",
    "k = b'123'\n",
    "l = k.isdecimal()\n",
    "print(l)"
   ]
  },
  {
   "cell_type": "code",
   "execution_count": 6,
   "metadata": {},
   "outputs": [
    {
     "name": "stdout",
     "output_type": "stream",
     "text": [
      "True\n",
      "True\n",
      "False\n",
      "False\n",
      "False\n",
      "True\n"
     ]
    }
   ],
   "source": [
    "#isdigit()函数识别范围如下所示\n",
    "#True: Unicode数字，byte数字（单字节），全角数字（双字节）\n",
    "#False: 汉字数字，罗马数字,小数\n",
    "#Error: 无\n",
    "a = '123'  #Unicode数字\n",
    "b = a.isdigit()\n",
    "print(b)\n",
    "\n",
    "c = '１２３'#全角数字\n",
    "d = c.isdigit()\n",
    "print(d)\n",
    "\n",
    "e = 'Ⅳ'\n",
    "f = e.isdigit()\n",
    "print(f)\n",
    "\n",
    "g = '一二三'\n",
    "h = g.isdigit()\n",
    "print(h)\n",
    "\n",
    "i = '3.3'\n",
    "j = i.isdigit()\n",
    "print(j)\n",
    "\n",
    "k = b'123'\n",
    "l = k.isdigit()\n",
    "print(l)"
   ]
  },
  {
   "cell_type": "code",
   "execution_count": 11,
   "metadata": {},
   "outputs": [
    {
     "name": "stdout",
     "output_type": "stream",
     "text": [
      "True\n",
      "False\n"
     ]
    }
   ],
   "source": [
    "#isidentifier()函数为查看字符串能否作为变量名使用\n",
    "a = 'hello'\n",
    "b = a.isidentifier()\n",
    "print(b)\n",
    "\n",
    "c = '3a'\n",
    "d = c.isidentifier()\n",
    "print(d)"
   ]
  },
  {
   "cell_type": "code",
   "execution_count": 14,
   "metadata": {},
   "outputs": [
    {
     "name": "stdout",
     "output_type": "stream",
     "text": [
      "False\n",
      "False\n",
      "True\n"
     ]
    }
   ],
   "source": [
    "#islower()函数True条件为所有字符均为小写状态，反之为false\n",
    "a = 'HELLO'\n",
    "b = a.islower()\n",
    "print(b)\n",
    "\n",
    "c = 'Hello'\n",
    "d = c.islower()\n",
    "print(d)\n",
    "\n",
    "e = 'hello'\n",
    "f = e.islower()\n",
    "print(f)"
   ]
  },
  {
   "cell_type": "code",
   "execution_count": 15,
   "metadata": {},
   "outputs": [
    {
     "name": "stdout",
     "output_type": "stream",
     "text": [
      "True\n",
      "True\n",
      "True\n",
      "True\n",
      "False\n"
     ]
    },
    {
     "ename": "AttributeError",
     "evalue": "'bytes' object has no attribute 'isnumeric'",
     "output_type": "error",
     "traceback": [
      "\u001b[1;31m---------------------------------------------------------------------------\u001b[0m",
      "\u001b[1;31mAttributeError\u001b[0m                            Traceback (most recent call last)",
      "\u001b[1;32m<ipython-input-15-2746bf08abef>\u001b[0m in \u001b[0;36m<module>\u001b[1;34m()\u001b[0m\n\u001b[0;32m     24\u001b[0m \u001b[1;33m\u001b[0m\u001b[0m\n\u001b[0;32m     25\u001b[0m \u001b[0mk\u001b[0m \u001b[1;33m=\u001b[0m \u001b[1;34mb'123'\u001b[0m\u001b[1;33m\u001b[0m\u001b[1;33m\u001b[0m\u001b[0m\n\u001b[1;32m---> 26\u001b[1;33m \u001b[0ml\u001b[0m \u001b[1;33m=\u001b[0m \u001b[0mk\u001b[0m\u001b[1;33m.\u001b[0m\u001b[0misnumeric\u001b[0m\u001b[1;33m(\u001b[0m\u001b[1;33m)\u001b[0m\u001b[1;33m\u001b[0m\u001b[1;33m\u001b[0m\u001b[0m\n\u001b[0m\u001b[0;32m     27\u001b[0m \u001b[0mprint\u001b[0m\u001b[1;33m(\u001b[0m\u001b[0ml\u001b[0m\u001b[1;33m)\u001b[0m\u001b[1;33m\u001b[0m\u001b[1;33m\u001b[0m\u001b[0m\n",
      "\u001b[1;31mAttributeError\u001b[0m: 'bytes' object has no attribute 'isnumeric'"
     ]
    }
   ],
   "source": [
    "#isnumeric()检测范围如下所示\n",
    "#True: Unicode数字，全角数字（双字节），罗马数字，汉字数字\n",
    "#False: 小数\n",
    "#Error: byte数字（单字节）\n",
    "a = '123'  #Unicode数字\n",
    "b = a.isnumeric()\n",
    "print(b)\n",
    "\n",
    "c = '１２３'#全角数字\n",
    "d = c.isnumeric()\n",
    "print(d)\n",
    "\n",
    "e = 'Ⅳ'\n",
    "f = e.isnumeric()\n",
    "print(f)\n",
    "\n",
    "g = '一二三'\n",
    "h = g.isnumeric()\n",
    "print(h)\n",
    "\n",
    "i = '3.3'\n",
    "j = i.isnumeric()\n",
    "print(j)\n",
    "\n",
    "k = b'123'\n",
    "l = k.isnumeric()\n",
    "print(l)"
   ]
  },
  {
   "cell_type": "code",
   "execution_count": 4,
   "metadata": {},
   "outputs": [
    {
     "name": "stdout",
     "output_type": "stream",
     "text": [
      "True\n",
      "False\n",
      "False\n"
     ]
    }
   ],
   "source": [
    "#isprintable()函数\n",
    "#如果字符串可打印返回True,如果字符串不能打印（其中有回车或换行符)返回False\n",
    "a = 'hello'\n",
    "b = a.isprintable()\n",
    "print(b)\n",
    "\n",
    "c = 'hello \\n'\n",
    "d = c.isprintable()\n",
    "print(d)\n",
    "\n",
    "c = '''\n",
    "hello\n",
    "'''\n",
    "d = c.isprintable()\n",
    "print(d)"
   ]
  },
  {
   "cell_type": "code",
   "execution_count": 1,
   "metadata": {},
   "outputs": [
    {
     "name": "stdout",
     "output_type": "stream",
     "text": [
      "False\n",
      "False\n",
      "True\n"
     ]
    }
   ],
   "source": [
    "#istitle()若每个单词的首字母都大写返回True，否则返回False\n",
    "a = 'hello world'\n",
    "b = a.istitle()\n",
    "print(b)\n",
    "\n",
    "c = 'hello World'\n",
    "d = c.istitle()\n",
    "print(d)\n",
    "\n",
    "e = 'Hello World'\n",
    "f = e.istitle()\n",
    "print(f)"
   ]
  },
  {
   "cell_type": "code",
   "execution_count": 3,
   "metadata": {},
   "outputs": [
    {
     "name": "stdout",
     "output_type": "stream",
     "text": [
      "True\n",
      "False\n"
     ]
    }
   ],
   "source": [
    "#isupper()如果字符串中所有字符为大写返回True，否则返回False\n",
    "a = 'HELLO'\n",
    "b = a.isupper()\n",
    "print(b)\n",
    "\n",
    "c = 'Hello'\n",
    "d = c.isupper()\n",
    "print(d)"
   ]
  },
  {
   "cell_type": "code",
   "execution_count": 67,
   "metadata": {},
   "outputs": [
    {
     "name": "stdout",
     "output_type": "stream",
     "text": [
      "2 1 3 1 4 1 5 1 6\n"
     ]
    }
   ],
   "source": [
    "#join()在b的每一个字符中间空隙中插入a字符\n",
    "a = ' 1 '\n",
    "b = '23456'\n",
    "c = a.join(b)\n",
    "print(c)"
   ]
  },
  {
   "cell_type": "code",
   "execution_count": 74,
   "metadata": {},
   "outputs": [
    {
     "name": "stdout",
     "output_type": "stream",
     "text": [
      "hello**\n",
      "hello  \n"
     ]
    }
   ],
   "source": [
    "#ljust()从左侧数指定字符长度，超出部分使用指定字符串补全\n",
    "a = 'hello'\n",
    "b = a.ljust(7,'*')\n",
    "print(b)\n",
    "\n",
    "#填充物为可选参数，若不给参数默认空格填充\n",
    "a = 'hello'\n",
    "b = a.ljust(7)\n",
    "print(b)"
   ]
  },
  {
   "cell_type": "code",
   "execution_count": 70,
   "metadata": {},
   "outputs": [
    {
     "name": "stdout",
     "output_type": "stream",
     "text": [
      "hello\n"
     ]
    }
   ],
   "source": [
    "#lower()将字符串中所有大写字符改为小写\n",
    "a = 'HELLO'\n",
    "b = a.lower()\n",
    "print(b)"
   ]
  },
  {
   "cell_type": "code",
   "execution_count": 24,
   "metadata": {},
   "outputs": [
    {
     "name": "stdout",
     "output_type": "stream",
     "text": [
      "h e l l o    \n",
      "llo\n",
      "ol\n"
     ]
    }
   ],
   "source": [
    "#lstrip()截掉字符串左侧的固定字符，默认为空格\n",
    "#lstrip含义为left strip\n",
    "a = '      h e l l o    '\n",
    "b = a.lstrip()\n",
    "print(b)\n",
    "\n",
    "c = 'hello'\n",
    "d = c.lstrip('he')\n",
    "print(d)\n",
    "\n",
    "#当字符连续出现时截去连续的字符\n",
    "e = 'hhheeeellol'\n",
    "f = e.lstrip('hel')\n",
    "print(f)"
   ]
  },
  {
   "cell_type": "code",
   "execution_count": 35,
   "metadata": {},
   "outputs": [
    {
     "name": "stdout",
     "output_type": "stream",
     "text": [
      "<class 'tuple'>\n",
      "('hello', ' ', 'world')\n",
      "<class 'tuple'>\n",
      "('hello world', '', '')\n"
     ]
    }
   ],
   "source": [
    "#partition()将字符串分为头，分隔符，尾三段，参数输入分隔符\n",
    "#使用该函数后的变量类型为元组\n",
    "a = 'hello world'\n",
    "b = a.partition(' ')\n",
    "print(type(b))\n",
    "print(b)\n",
    "\n",
    "#如果输入的分隔符未在字符串中则将字符串置为元组0号元组，其余两个未空字符串\n",
    "c = 'hello world'\n",
    "d = c.partition('k')\n",
    "print(type(d))\n",
    "print(d)"
   ]
  },
  {
   "cell_type": "code",
   "execution_count": 46,
   "metadata": {},
   "outputs": [
    {
     "name": "stdout",
     "output_type": "stream",
     "text": [
      "kellokkk\n",
      "kellokkh\n"
     ]
    }
   ],
   "source": [
    "#replace()替换字符串中指定的字符串\n",
    "#参数从前到后分别为：\n",
    "#0.要替换的字符串   1.替换之后的结果  3.替换的数量\n",
    "#其中3为可选参数如不输入则全部替换\n",
    "a = 'hellohhh'\n",
    "b = a.replace('h','k')\n",
    "print(b)\n",
    "\n",
    "c = 'hellohhh'\n",
    "d = c.replace('h','k',3)\n",
    "print(d)"
   ]
  },
  {
   "cell_type": "code",
   "execution_count": 53,
   "metadata": {},
   "outputs": [
    {
     "name": "stdout",
     "output_type": "stream",
     "text": [
      "3\n",
      "2\n",
      "-1\n"
     ]
    }
   ],
   "source": [
    "#rfind()找到最高位的指定字符串，含义为reverse find\n",
    "a = 'hello'\n",
    "b = a.rfind('l')\n",
    "print(b)\n",
    "\n",
    "#可选参数与find相同，可设置起点与终点,包含左不包含右\n",
    "#此处0，1，2等是从左侧数起\n",
    "c = 'hello'\n",
    "d = c.rfind('l',0,3)\n",
    "print(d)\n",
    "\n",
    "#如在区间内无指定字符，返回-1\n",
    "c = 'hello'\n",
    "d = c.rfind('l',0,2)\n",
    "print(d)"
   ]
  },
  {
   "cell_type": "code",
   "execution_count": 58,
   "metadata": {
    "scrolled": true
   },
   "outputs": [
    {
     "name": "stdout",
     "output_type": "stream",
     "text": [
      "3\n"
     ]
    },
    {
     "ename": "ValueError",
     "evalue": "substring not found",
     "output_type": "error",
     "traceback": [
      "\u001b[1;31m---------------------------------------------------------------------------\u001b[0m",
      "\u001b[1;31mValueError\u001b[0m                                Traceback (most recent call last)",
      "\u001b[1;32m<ipython-input-58-98bc2d732a98>\u001b[0m in \u001b[0;36m<module>\u001b[1;34m()\u001b[0m\n\u001b[0;32m      5\u001b[0m \u001b[1;33m\u001b[0m\u001b[0m\n\u001b[0;32m      6\u001b[0m \u001b[0mc\u001b[0m \u001b[1;33m=\u001b[0m \u001b[1;34m'hello'\u001b[0m\u001b[1;33m\u001b[0m\u001b[1;33m\u001b[0m\u001b[0m\n\u001b[1;32m----> 7\u001b[1;33m \u001b[0md\u001b[0m \u001b[1;33m=\u001b[0m \u001b[0mc\u001b[0m\u001b[1;33m.\u001b[0m\u001b[0mrindex\u001b[0m\u001b[1;33m(\u001b[0m\u001b[1;34m'k'\u001b[0m\u001b[1;33m)\u001b[0m\u001b[1;33m\u001b[0m\u001b[1;33m\u001b[0m\u001b[0m\n\u001b[0m",
      "\u001b[1;31mValueError\u001b[0m: substring not found"
     ]
    }
   ],
   "source": [
    "#rindex()与rfind()功能相同，区别是使用rindex()时在字符串中没有指定字符串时会报错\n",
    "#rindex含义为reverse index\n",
    "a = 'hello'\n",
    "b = a.rindex('l')\n",
    "print(b)\n",
    "\n",
    "c = 'hello'\n",
    "d = c.rindex('k')"
   ]
  },
  {
   "cell_type": "code",
   "execution_count": 73,
   "metadata": {},
   "outputs": [
    {
     "name": "stdout",
     "output_type": "stream",
     "text": [
      "***hello\n",
      "   hello\n"
     ]
    }
   ],
   "source": [
    "#rjust()指定字符串长度，从左侧进行填充\n",
    "#rjust含义为right justified\n",
    "a = 'hello'\n",
    "b = a.rjust(8,'*')\n",
    "print(b)\n",
    "#填充物为可选参数,若给参数默认为空格填充\n",
    "c = 'hello'\n",
    "d = a.rjust(8)\n",
    "print(d)"
   ]
  },
  {
   "cell_type": "code",
   "execution_count": 76,
   "metadata": {},
   "outputs": [
    {
     "name": "stdout",
     "output_type": "stream",
     "text": [
      "('hello wor', 'l', 'd')\n"
     ]
    }
   ],
   "source": [
    "#rpartition()与partition()功能相似，rpartition寻找分割点从右侧寻找\n",
    "#rpartition含义为 resverse partition\n",
    "a = 'hello world'\n",
    "b = a.rpartition('l')\n",
    "print(b)"
   ]
  },
  {
   "cell_type": "code",
   "execution_count": 97,
   "metadata": {},
   "outputs": [
    {
     "name": "stdout",
     "output_type": "stream",
     "text": [
      "['he', '', 'o']\n",
      "['hel', 'o']\n"
     ]
    }
   ],
   "source": [
    "#rsplit()将指定字符从字符串中删去，之后将字符串分离为列表，分离位置为指定字符串位置\n",
    "#rsplit含义为reverse split\n",
    "#下面这个例子为不加如可选参数count\n",
    "a = 'hello'\n",
    "b = a.rsplit('l')\n",
    "print(b)\n",
    "\n",
    "#下面这个列子将count置为1，则从最右侧删除一个指定字符\n",
    "c = 'hello'\n",
    "d = a.rsplit('l',1)\n",
    "print(d)"
   ]
  },
  {
   "cell_type": "code",
   "execution_count": 149,
   "metadata": {},
   "outputs": [
    {
     "name": "stdout",
     "output_type": "stream",
     "text": [
      "    hello\n",
      "hell\n"
     ]
    }
   ],
   "source": [
    "#rstrip()从右侧删除字符，含义为right strip，默认为删除空格\n",
    "a = '    hello    '\n",
    "b = a.rstrip()\n",
    "print(b)\n",
    "\n",
    "c = 'hello'\n",
    "d = c.rstrip('o')\n",
    "print(d)"
   ]
  },
  {
   "cell_type": "code",
   "execution_count": 110,
   "metadata": {},
   "outputs": [
    {
     "name": "stdout",
     "output_type": "stream",
     "text": [
      "['he', 'lo']\n"
     ]
    }
   ],
   "source": [
    "#split()与rsplit()功能相似，split为从左数，如不给可选参数则两函数功能相同\n",
    "a = 'hello'\n",
    "b = a.split('l',1)\n",
    "print(b)"
   ]
  },
  {
   "cell_type": "code",
   "execution_count": 134,
   "metadata": {},
   "outputs": [
    {
     "name": "stdout",
     "output_type": "stream",
     "text": [
      "['hello', 'world']\n",
      "['hello', 'world']\n",
      "['hello\\n', 'world']\n",
      "['hello', 'world']\n"
     ]
    }
   ],
   "source": [
    "#splitlines()以换行符为分隔符分离字符串，默认参数为False,保留换行符\n",
    "#splitlines含义为split lines\n",
    "a = 'hello\\nworld'\n",
    "b = a.splitlines()\n",
    "print(b)\n",
    "\n",
    "c = 'hello\\nworld'\n",
    "d = a.splitlines(False)\n",
    "print(d)\n",
    "\n",
    "#如将参数置为True则保留换行符\n",
    "e = 'hello\\nworld'\n",
    "f = a.splitlines(True)\n",
    "print(f)\n",
    "\n",
    "#三引号字符串换行同样适用\n",
    "g = '''hello\n",
    "world\n",
    "'''\n",
    "h = g.splitlines()\n",
    "print(h)"
   ]
  },
  {
   "cell_type": "code",
   "execution_count": 142,
   "metadata": {},
   "outputs": [
    {
     "name": "stdout",
     "output_type": "stream",
     "text": [
      "True\n",
      "False\n"
     ]
    }
   ],
   "source": [
    "#startswith()与endswith()用法相似，startswith()为检测字符串开头字符是否为指定字符\n",
    "#可通过可选参数设置起始点与终止点\n",
    "a = 'hello'\n",
    "b = a.startswith('h')\n",
    "print(b)\n",
    "\n",
    "c = 'hello'\n",
    "d = a.startswith('h',1,2)\n",
    "print(d)"
   ]
  },
  {
   "cell_type": "code",
   "execution_count": 156,
   "metadata": {},
   "outputs": [
    {
     "name": "stdout",
     "output_type": "stream",
     "text": [
      "hello\n",
      "hell\n"
     ]
    }
   ],
   "source": [
    "#strip()函数为删除前后两侧的指定字符，默认为空格\n",
    "a = '   hello   '\n",
    "b = a.strip()\n",
    "print(b)\n",
    "\n",
    "c = 'ohello'\n",
    "d = c.strip('o')\n",
    "print(d)"
   ]
  },
  {
   "cell_type": "code",
   "execution_count": 16,
   "metadata": {},
   "outputs": [
    {
     "name": "stdout",
     "output_type": "stream",
     "text": [
      "HELLO WORLD\n",
      "hello world\n"
     ]
    }
   ],
   "source": [
    "#swapcase()函数功能为将字符串中所有大小写进行转换\n",
    "a = 'hello world'\n",
    "b = a.swapcase()\n",
    "print(b)\n",
    "\n",
    "c = 'HELLO WORLD'\n",
    "d = c.swapcase()\n",
    "print(d)"
   ]
  },
  {
   "cell_type": "code",
   "execution_count": 161,
   "metadata": {},
   "outputs": [
    {
     "name": "stdout",
     "output_type": "stream",
     "text": [
      "Hello World\n"
     ]
    }
   ],
   "source": [
    "#title()功能为将字符中的首字母转变为大写字母\n",
    "a = 'hello world'\n",
    "b = a.title()\n",
    "print(b)"
   ]
  },
  {
   "cell_type": "code",
   "execution_count": 11,
   "metadata": {},
   "outputs": [
    {
     "name": "stdout",
     "output_type": "stream",
     "text": [
      "h0ll9 w9rld\n"
     ]
    }
   ],
   "source": [
    "#translate()函数需配合maketrans()函数同时使用\n",
    "#maketrans()函数制作字符对应其他字符的tab表，translate()函数进行字符替换\n",
    "intab = \"eo\"\n",
    "outtab = \"09\"\n",
    "trantab = intab.maketrans(intab, outtab)\n",
    "\n",
    "a = 'hello world'\n",
    "b = a.translate(trantab)\n",
    "print(b)"
   ]
  },
  {
   "cell_type": "code",
   "execution_count": 13,
   "metadata": {},
   "outputs": [
    {
     "name": "stdout",
     "output_type": "stream",
     "text": [
      "HELLO WORLD\n"
     ]
    }
   ],
   "source": [
    "#upper()将字符串中所有小写字母转变为大写字母\n",
    "a = 'hello world'\n",
    "b = a.upper()\n",
    "print(b)"
   ]
  },
  {
   "cell_type": "code",
   "execution_count": 20,
   "metadata": {},
   "outputs": [
    {
     "name": "stdout",
     "output_type": "stream",
     "text": [
      "0hello\n"
     ]
    }
   ],
   "source": [
    "#zfill()使用字符0填充指定字符长度\n",
    "a = 'hello'\n",
    "b = a.zfill(6)\n",
    "print(b)"
   ]
  },
  {
   "cell_type": "code",
   "execution_count": null,
   "metadata": {},
   "outputs": [],
   "source": []
  }
 ],
 "metadata": {
  "kernelspec": {
   "display_name": "Python 3",
   "language": "python",
   "name": "python3"
  },
  "language_info": {
   "codemirror_mode": {
    "name": "ipython",
    "version": 3
   },
   "file_extension": ".py",
   "mimetype": "text/x-python",
   "name": "python",
   "nbconvert_exporter": "python",
   "pygments_lexer": "ipython3",
   "version": "3.6.9"
  }
 },
 "nbformat": 4,
 "nbformat_minor": 2
}
