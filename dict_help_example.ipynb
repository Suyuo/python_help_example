{
 "cells": [
  {
   "cell_type": "code",
   "execution_count": 1,
   "metadata": {
    "scrolled": false
   },
   "outputs": [
    {
     "name": "stdout",
     "output_type": "stream",
     "text": [
      "Help on class dict in module builtins:\n",
      "\n",
      "class dict(object)\n",
      " |  dict() -> new empty dictionary\n",
      " |  dict(mapping) -> new dictionary initialized from a mapping object's\n",
      " |      (key, value) pairs\n",
      " |  dict(iterable) -> new dictionary initialized as if via:\n",
      " |      d = {}\n",
      " |      for k, v in iterable:\n",
      " |          d[k] = v\n",
      " |  dict(**kwargs) -> new dictionary initialized with the name=value pairs\n",
      " |      in the keyword argument list.  For example:  dict(one=1, two=2)\n",
      " |  \n",
      " |  Methods defined here:\n",
      " |  \n",
      " |  __contains__(self, key, /)\n",
      " |      True if D has a key k, else False.\n",
      " |  \n",
      " |  __delitem__(self, key, /)\n",
      " |      Delete self[key].\n",
      " |  \n",
      " |  __eq__(self, value, /)\n",
      " |      Return self==value.\n",
      " |  \n",
      " |  __ge__(self, value, /)\n",
      " |      Return self>=value.\n",
      " |  \n",
      " |  __getattribute__(self, name, /)\n",
      " |      Return getattr(self, name).\n",
      " |  \n",
      " |  __getitem__(...)\n",
      " |      x.__getitem__(y) <==> x[y]\n",
      " |  \n",
      " |  __gt__(self, value, /)\n",
      " |      Return self>value.\n",
      " |  \n",
      " |  __init__(self, /, *args, **kwargs)\n",
      " |      Initialize self.  See help(type(self)) for accurate signature.\n",
      " |  \n",
      " |  __iter__(self, /)\n",
      " |      Implement iter(self).\n",
      " |  \n",
      " |  __le__(self, value, /)\n",
      " |      Return self<=value.\n",
      " |  \n",
      " |  __len__(self, /)\n",
      " |      Return len(self).\n",
      " |  \n",
      " |  __lt__(self, value, /)\n",
      " |      Return self<value.\n",
      " |  \n",
      " |  __ne__(self, value, /)\n",
      " |      Return self!=value.\n",
      " |  \n",
      " |  __new__(*args, **kwargs) from builtins.type\n",
      " |      Create and return a new object.  See help(type) for accurate signature.\n",
      " |  \n",
      " |  __repr__(self, /)\n",
      " |      Return repr(self).\n",
      " |  \n",
      " |  __setitem__(self, key, value, /)\n",
      " |      Set self[key] to value.\n",
      " |  \n",
      " |  __sizeof__(...)\n",
      " |      D.__sizeof__() -> size of D in memory, in bytes\n",
      " |  \n",
      " |  clear(...)\n",
      " |      D.clear() -> None.  Remove all items from D.\n",
      " |  \n",
      " |  copy(...)\n",
      " |      D.copy() -> a shallow copy of D\n",
      " |  \n",
      " |  fromkeys(iterable, value=None, /) from builtins.type\n",
      " |      Returns a new dict with keys from iterable and values equal to value.\n",
      " |  \n",
      " |  get(...)\n",
      " |      D.get(k[,d]) -> D[k] if k in D, else d.  d defaults to None.\n",
      " |  \n",
      " |  items(...)\n",
      " |      D.items() -> a set-like object providing a view on D's items\n",
      " |  \n",
      " |  keys(...)\n",
      " |      D.keys() -> a set-like object providing a view on D's keys\n",
      " |  \n",
      " |  pop(...)\n",
      " |      D.pop(k[,d]) -> v, remove specified key and return the corresponding value.\n",
      " |      If key is not found, d is returned if given, otherwise KeyError is raised\n",
      " |  \n",
      " |  popitem(...)\n",
      " |      D.popitem() -> (k, v), remove and return some (key, value) pair as a\n",
      " |      2-tuple; but raise KeyError if D is empty.\n",
      " |  \n",
      " |  setdefault(...)\n",
      " |      D.setdefault(k[,d]) -> D.get(k,d), also set D[k]=d if k not in D\n",
      " |  \n",
      " |  update(...)\n",
      " |      D.update([E, ]**F) -> None.  Update D from dict/iterable E and F.\n",
      " |      If E is present and has a .keys() method, then does:  for k in E: D[k] = E[k]\n",
      " |      If E is present and lacks a .keys() method, then does:  for k, v in E: D[k] = v\n",
      " |      In either case, this is followed by: for k in F:  D[k] = F[k]\n",
      " |  \n",
      " |  values(...)\n",
      " |      D.values() -> an object providing a view on D's values\n",
      " |  \n",
      " |  ----------------------------------------------------------------------\n",
      " |  Data and other attributes defined here:\n",
      " |  \n",
      " |  __hash__ = None\n",
      "\n"
     ]
    }
   ],
   "source": [
    "help(dict)"
   ]
  },
  {
   "cell_type": "code",
   "execution_count": 11,
   "metadata": {},
   "outputs": [
    {
     "name": "stdout",
     "output_type": "stream",
     "text": [
      "<class 'dict'>\n",
      "{}\n",
      "<class 'dict'>\n",
      "{'age': '18'}\n",
      "{'one': 1, 'two': 2, 'three': 3}\n",
      "{'one': 1, 'two': 2, 'three': 3}\n",
      "four\n",
      "4\n",
      "five\n",
      "5\n",
      "six\n",
      "6\n",
      "{'four': 4, 'five': 5, 'six': 6}\n",
      "{'one': 1, 'two': 2}\n"
     ]
    }
   ],
   "source": [
    "#dict()函数创建一个新的字典\n",
    "#创建一个空字典\n",
    "a = dict()\n",
    "print(type(a))\n",
    "print(a)\n",
    "\n",
    "#将mapping转换为dict\n",
    "a = dict({'age':'18'})\n",
    "print(type(a))\n",
    "print(a)\n",
    "\n",
    "a = dict(zip(['one', 'two', 'three'], [1, 2, 3]))\n",
    "print(a)\n",
    "\n",
    "#通过迭代器生成一个新的字典\n",
    "a = dict([('one', 1), ('two', 2), ('three', 3)])\n",
    "print(a)\n",
    "\n",
    "b = [('four', 4), ('five', 5), ('six', 6)]\n",
    "d = {}\n",
    "for x,y in b:\n",
    "    d[x] = y\n",
    "    print(x)\n",
    "    print(y)\n",
    "print(d)\n",
    "#传入关键字生成字典\n",
    "a = dict(one = 1,two = 2)\n",
    "print(a)"
   ]
  },
  {
   "cell_type": "code",
   "execution_count": 18,
   "metadata": {},
   "outputs": [
    {
     "name": "stdout",
     "output_type": "stream",
     "text": [
      "True\n",
      "False\n"
     ]
    }
   ],
   "source": [
    "#__contains__()，参数为key，如果字典中有指定的key，则返回True\n",
    "a = {'one':1,'two':2}\n",
    "b = a.__contains__('one')\n",
    "print(b)\n",
    "b = a.__contains__('three')\n",
    "print(b)"
   ]
  },
  {
   "cell_type": "code",
   "execution_count": 1,
   "metadata": {},
   "outputs": [
    {
     "name": "stdout",
     "output_type": "stream",
     "text": [
      "{'two': 2}\n"
     ]
    }
   ],
   "source": [
    "#__delitem__删除字典中指定的键与值\n",
    "a = {'one':1,'two':2}\n",
    "b = a.__delitem__('one')\n",
    "print(a)"
   ]
  },
  {
   "cell_type": "code",
   "execution_count": 3,
   "metadata": {},
   "outputs": [
    {
     "name": "stdout",
     "output_type": "stream",
     "text": [
      "True\n",
      "True\n"
     ]
    }
   ],
   "source": [
    "#__eq__函数，若两个字典相等，则返回True，否则返回False\n",
    "a = {'one':1,'two':2}\n",
    "b = {'one':1,'two':2}\n",
    "c = a.__eq__(b)\n",
    "print(c)\n",
    "\n",
    "#字典是无序的，只要键与值对应相同，则整体相等\n",
    "b = {'two':2,'one':1,}\n",
    "c = a.__eq__(b)\n",
    "print(c)"
   ]
  },
  {
   "cell_type": "code",
   "execution_count": 31,
   "metadata": {},
   "outputs": [
    {
     "name": "stdout",
     "output_type": "stream",
     "text": [
      "NotImplemented\n",
      "NotImplemented\n",
      "NotImplemented\n",
      "NotImplemented\n"
     ]
    }
   ],
   "source": [
    "#__ge__,__gt__,__le__,__lt__,这四种比较大小的函数在dict可以使用，但不执行\n",
    "a = {'one':1,'two':2,'three':3}\n",
    "b = {'one':1,'two':2}\n",
    "c =  a.__ge__(b)\n",
    "print(c)\n",
    "c =  a.__gt__(b)\n",
    "print(c)\n",
    "c =  a.__le__(b)\n",
    "print(c)\n",
    "c =  a.__lt__(b)\n",
    "print(c)\n",
    "#比较dict大小可以使用模块operator"
   ]
  },
  {
   "cell_type": "code",
   "execution_count": 49,
   "metadata": {},
   "outputs": [
    {
     "name": "stdout",
     "output_type": "stream",
     "text": [
      "自动调用\n",
      "None\n"
     ]
    }
   ],
   "source": [
    "#__getattribute__()为类中提取类属性调用的函数，例为\n",
    "class A():\n",
    "    age = 18\n",
    "    def __getattribute__(self,something):\n",
    "        print('自动调用')\n",
    "\n",
    "#实例化后不访问属性而是自动调用getattribute函数\n",
    "a = A()\n",
    "print(a.age)"
   ]
  },
  {
   "cell_type": "code",
   "execution_count": 53,
   "metadata": {},
   "outputs": [
    {
     "name": "stdout",
     "output_type": "stream",
     "text": [
      "1\n",
      "2\n"
     ]
    }
   ],
   "source": [
    "#__getitem__()提取字典中指定Key的value\n",
    "a = {'one':1,'two':2,'three':3}\n",
    "b = a.__getitem__('one')\n",
    "print(b)\n",
    "\n",
    "#用法同dict[key]\n",
    "b = a['two']\n",
    "print(b)"
   ]
  },
  {
   "cell_type": "code",
   "execution_count": 55,
   "metadata": {},
   "outputs": [
    {
     "name": "stdout",
     "output_type": "stream",
     "text": [
      "1\n"
     ]
    }
   ],
   "source": [
    "#__init__()实例化类时自动执行，例\n",
    "class A():\n",
    "    def __init__(self):\n",
    "        print('1')\n",
    "a = A()"
   ]
  },
  {
   "cell_type": "code",
   "execution_count": 58,
   "metadata": {},
   "outputs": [
    {
     "name": "stdout",
     "output_type": "stream",
     "text": [
      "<class 'dict_keyiterator'>\n",
      "one\n",
      "two\n",
      "three\n"
     ]
    }
   ],
   "source": [
    "#生成dict的key迭代器\n",
    "a = {'one':1,'two':2,'three':3}\n",
    "b = a.__iter__()\n",
    "print(type(b))\n",
    "\n",
    "for i in b:\n",
    "    print(i)"
   ]
  },
  {
   "cell_type": "code",
   "execution_count": 60,
   "metadata": {},
   "outputs": [
    {
     "name": "stdout",
     "output_type": "stream",
     "text": [
      "3\n"
     ]
    }
   ],
   "source": [
    "#__len__()返回dict的长度\n",
    "a = {'one':1,'two':2,'three':3}\n",
    "b = a.__len__()\n",
    "print(b)"
   ]
  },
  {
   "cell_type": "code",
   "execution_count": 62,
   "metadata": {},
   "outputs": [
    {
     "name": "stdout",
     "output_type": "stream",
     "text": [
      "True\n"
     ]
    }
   ],
   "source": [
    "#__ne__()不相等时返回True\n",
    "a = {'one':1,'two':2,'three':3}\n",
    "b = {'one':1,'two':2}\n",
    "c = a.__ne__(b)\n",
    "print(c)"
   ]
  },
  {
   "cell_type": "code",
   "execution_count": 64,
   "metadata": {},
   "outputs": [
    {
     "name": "stdout",
     "output_type": "stream",
     "text": [
      "1\n"
     ]
    }
   ],
   "source": [
    "#__new__()用法同__init__(),优先级在__init__前,例\n",
    "class a:\n",
    "    def __new__(self):\n",
    "        print('1')\n",
    "    def __init__(self):\n",
    "        print('2')\n",
    "A = a()"
   ]
  },
  {
   "cell_type": "code",
   "execution_count": 66,
   "metadata": {},
   "outputs": [
    {
     "name": "stdout",
     "output_type": "stream",
     "text": [
      "{'one': 1, 'two': 2, 'three': 3}\n",
      "<class 'str'>\n"
     ]
    }
   ],
   "source": [
    "#__repr__()将变量转变为字符串\n",
    "a = {'one':1,'two':2,'three':3}\n",
    "b = a.__repr__()\n",
    "print(b)\n",
    "print(type(b))"
   ]
  },
  {
   "cell_type": "code",
   "execution_count": 68,
   "metadata": {},
   "outputs": [
    {
     "name": "stdout",
     "output_type": "stream",
     "text": [
      "None\n",
      "{'one': 3, 'two': 2, 'three': 3}\n"
     ]
    }
   ],
   "source": [
    "#__setitem__()参数为键与值，使用__setitem__()替换掉原dict中的键与值\n",
    "a = {'one':1,'two':2,'three':3}\n",
    "b = a.__setitem__('one',3)\n",
    "print(b)\n",
    "print(a)"
   ]
  },
  {
   "cell_type": "code",
   "execution_count": 69,
   "metadata": {},
   "outputs": [
    {
     "name": "stdout",
     "output_type": "stream",
     "text": [
      "216\n"
     ]
    }
   ],
   "source": [
    "#__sizeof__()返回字典的大小，单位为字节\n",
    "a = {'one':1,'two':2,'three':3}\n",
    "b = a.__sizeof__()\n",
    "print(b)"
   ]
  },
  {
   "cell_type": "code",
   "execution_count": 71,
   "metadata": {},
   "outputs": [
    {
     "name": "stdout",
     "output_type": "stream",
     "text": [
      "None\n",
      "{}\n"
     ]
    }
   ],
   "source": [
    "#clear()清空指定字典\n",
    "a = {'one':1,'two':2,'three':3}\n",
    "b = a.clear()\n",
    "print(b)\n",
    "print(a)"
   ]
  },
  {
   "cell_type": "code",
   "execution_count": 72,
   "metadata": {},
   "outputs": [
    {
     "name": "stdout",
     "output_type": "stream",
     "text": [
      "{'one': 1, 'two': 2, 'three': 3}\n"
     ]
    }
   ],
   "source": [
    "#copy()复制指定字典\n",
    "a = {'one':1,'two':2,'three':3}\n",
    "b = a.copy()\n",
    "print(b)"
   ]
  },
  {
   "cell_type": "code",
   "execution_count": 81,
   "metadata": {},
   "outputs": [
    {
     "name": "stdout",
     "output_type": "stream",
     "text": [
      "{'one': 1, 'two': 1, 'three': 1}\n"
     ]
    }
   ],
   "source": [
    "#__fromkeys__()使用迭代器返回一个新的字典\n",
    "#如不输入Value则默认Value为none，若输入Value则均为输入值\n",
    "a = {'one':1,'two':2,'three':3}\n",
    "d = a.__iter__()\n",
    "b = a.fromkeys(d,1)\n",
    "print(b)"
   ]
  },
  {
   "cell_type": "code",
   "execution_count": 90,
   "metadata": {},
   "outputs": [
    {
     "name": "stdout",
     "output_type": "stream",
     "text": [
      "1\n",
      "4\n"
     ]
    },
    {
     "ename": "KeyError",
     "evalue": "'four'",
     "output_type": "error",
     "traceback": [
      "\u001b[1;31m---------------------------------------------------------------------------\u001b[0m",
      "\u001b[1;31mKeyError\u001b[0m                                  Traceback (most recent call last)",
      "\u001b[1;32m<ipython-input-90-a57a7b87177b>\u001b[0m in \u001b[0;36m<module>\u001b[1;34m()\u001b[0m\n\u001b[0;32m      9\u001b[0m \u001b[0mb\u001b[0m \u001b[1;33m=\u001b[0m \u001b[0ma\u001b[0m\u001b[1;33m.\u001b[0m\u001b[0mget\u001b[0m\u001b[1;33m(\u001b[0m\u001b[1;34m'four'\u001b[0m\u001b[1;33m,\u001b[0m\u001b[1;36m4\u001b[0m\u001b[1;33m)\u001b[0m\u001b[1;33m\u001b[0m\u001b[1;33m\u001b[0m\u001b[0m\n\u001b[0;32m     10\u001b[0m \u001b[0mprint\u001b[0m\u001b[1;33m(\u001b[0m\u001b[0mb\u001b[0m\u001b[1;33m)\u001b[0m\u001b[1;33m\u001b[0m\u001b[1;33m\u001b[0m\u001b[0m\n\u001b[1;32m---> 11\u001b[1;33m \u001b[0mb\u001b[0m \u001b[1;33m=\u001b[0m \u001b[0ma\u001b[0m\u001b[1;33m.\u001b[0m\u001b[0m__getitem__\u001b[0m\u001b[1;33m(\u001b[0m\u001b[1;34m'four'\u001b[0m\u001b[1;33m)\u001b[0m\u001b[1;33m\u001b[0m\u001b[1;33m\u001b[0m\u001b[0m\n\u001b[0m\u001b[0;32m     12\u001b[0m \u001b[0mprint\u001b[0m\u001b[1;33m(\u001b[0m\u001b[0mb\u001b[0m\u001b[1;33m)\u001b[0m\u001b[1;33m\u001b[0m\u001b[1;33m\u001b[0m\u001b[0m\n",
      "\u001b[1;31mKeyError\u001b[0m: 'four'"
     ]
    }
   ],
   "source": [
    "#get()获取字典中指定键的值\n",
    "a = {'one':1,'two':2,'three':3}\n",
    "b = a.get('one')\n",
    "print(b)\n",
    "\n",
    "#get()与__getitem__()的区别为当键不存在时:\n",
    "#get()返回值为None，也可设定默认值，__getitem__()会报错\n",
    "a = {'one':1,'two':2,'three':3}\n",
    "b = a.get('four',4)\n",
    "print(b)\n",
    "b = a.__getitem__('four')\n",
    "print(b)"
   ]
  },
  {
   "cell_type": "code",
   "execution_count": 4,
   "metadata": {},
   "outputs": [
    {
     "name": "stdout",
     "output_type": "stream",
     "text": [
      "dict_items([('one', 1), ('two', 2), ('three', 3)])\n",
      "<class 'dict_items'>\n",
      "one\n",
      "1\n",
      "two\n",
      "2\n",
      "three\n",
      "3\n"
     ]
    }
   ],
   "source": [
    "#items()生成字典的迭代器\n",
    "a = {'one':1,'two':2,'three':3}\n",
    "b = a.items()\n",
    "print(b)\n",
    "print(type(b))\n",
    "for key,value in b:\n",
    "    print(key)\n",
    "    print(value)"
   ]
  },
  {
   "cell_type": "code",
   "execution_count": 6,
   "metadata": {},
   "outputs": [
    {
     "name": "stdout",
     "output_type": "stream",
     "text": [
      "dict_keys(['one', 'two', 'three'])\n",
      "<class 'dict_keys'>\n",
      "one\n",
      "two\n",
      "three\n"
     ]
    }
   ],
   "source": [
    "#keys()生成字典key的迭代器\n",
    "a = {'one':1,'two':2,'three':3}\n",
    "b = a.keys()\n",
    "print(b)\n",
    "print(type(b))\n",
    "for c in b:\n",
    "    print(c)"
   ]
  },
  {
   "cell_type": "code",
   "execution_count": 14,
   "metadata": {},
   "outputs": [
    {
     "name": "stdout",
     "output_type": "stream",
     "text": [
      "1\n",
      "{'two': 2, 'three': 3}\n",
      "4\n",
      "{'one': 1, 'two': 2, 'three': 3}\n"
     ]
    }
   ],
   "source": [
    "#pop()移除指定的key并且返回对应的值\n",
    "a = {'one':1,'two':2,'three':3}\n",
    "b = a.pop('one')\n",
    "print(b)\n",
    "print(a)\n",
    "#如果key没有找到，返回输入的默认值\n",
    "a = {'one':1,'two':2,'three':3}\n",
    "b = a.pop('four',4)\n",
    "print(b)\n",
    "print(a)"
   ]
  },
  {
   "cell_type": "code",
   "execution_count": 19,
   "metadata": {},
   "outputs": [
    {
     "name": "stdout",
     "output_type": "stream",
     "text": [
      "('four', 4)\n",
      "{'one': 1, 'two': 2, 'three': 3}\n"
     ]
    }
   ],
   "source": [
    "#popitem()返回最后的键与值并在原字典中删除该键与值\n",
    "a = {'one':1,'two':2,'three':3,'four':4}\n",
    "b = a.popitem()\n",
    "print(b)\n",
    "print(a)"
   ]
  },
  {
   "cell_type": "code",
   "execution_count": 24,
   "metadata": {},
   "outputs": [
    {
     "name": "stdout",
     "output_type": "stream",
     "text": [
      "4\n",
      "{'one': 1, 'two': 2, 'three': 3, 'four': 4}\n",
      "4\n",
      "{'one': 1, 'two': 2, 'three': 3}\n"
     ]
    }
   ],
   "source": [
    "#setdefault()用法与get()相似，返回指定键的对应值，当键不存在时可设置默认值\n",
    "a = {'one':1,'two':2,'three':3}\n",
    "b = a.setdefault('four',4)\n",
    "print(b)\n",
    "print(a)\n",
    "#setdefault()与get()区别为：\n",
    "#setdefault()设定默认值时对原函数进行添加，get()则不添加\n",
    "a = {'one':1,'two':2,'three':3}\n",
    "b = a.get('four',4)\n",
    "print(b)\n",
    "print(a)"
   ]
  },
  {
   "cell_type": "code",
   "execution_count": 29,
   "metadata": {},
   "outputs": [
    {
     "name": "stdout",
     "output_type": "stream",
     "text": [
      "None\n",
      "{'one': 6, 'two': 2, 'three': 3, 'four': 4, 'five': 5}\n",
      "{'four': 4, 'five': 5, 'one': 6}\n"
     ]
    }
   ],
   "source": [
    "#update()使用b更新a\n",
    "a = {'one':1,'two':2,'three':3}\n",
    "b = {'four':4,'five':5,'one':6}\n",
    "c = a.update(b)\n",
    "print(c)\n",
    "print(a)\n",
    "print(b)"
   ]
  },
  {
   "cell_type": "code",
   "execution_count": 31,
   "metadata": {},
   "outputs": [
    {
     "name": "stdout",
     "output_type": "stream",
     "text": [
      "dict_values([1, 2, 3])\n",
      "1\n",
      "2\n",
      "3\n"
     ]
    }
   ],
   "source": [
    "#values()生成字典值的迭代器\n",
    "a = {'one':1,'two':2,'three':3}\n",
    "b = a.values()\n",
    "print(b)\n",
    "for v in b:\n",
    "    print(v)"
   ]
  }
 ],
 "metadata": {
  "kernelspec": {
   "display_name": "Python 3",
   "language": "python",
   "name": "python3"
  },
  "language_info": {
   "codemirror_mode": {
    "name": "ipython",
    "version": 3
   },
   "file_extension": ".py",
   "mimetype": "text/x-python",
   "name": "python",
   "nbconvert_exporter": "python",
   "pygments_lexer": "ipython3",
   "version": "3.6.9"
  }
 },
 "nbformat": 4,
 "nbformat_minor": 2
}
